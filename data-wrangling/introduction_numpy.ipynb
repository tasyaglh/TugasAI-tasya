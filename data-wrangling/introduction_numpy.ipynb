{
 "cells": [
  {
   "cell_type": "markdown",
   "id": "2fbd0927",
   "metadata": {},
   "source": [
    "# Introduction\n",
    "\n",
    "Selamat datang di kelas Introduction to Numpy! \n",
    "\n",
    "Pada kelas ini kita akan belajar mengenai beberapa topik dasar dalam melakukan data wrangling menggunakan Numpy library. Beberapa materi tentang manipulasi array dasar yang akan dibahas dalam sesi kali ini antara lain adalah:\n",
    "\n",
    "* Attributes\n",
    "* Indexing\n",
    "* Slicing\n",
    "* Reshaping\n",
    "* Join/concat and splitting"
   ]
  },
  {
   "cell_type": "markdown",
   "id": "02eb6d62",
   "metadata": {},
   "source": [
    "---\n",
    "# Quick Recall: Numpy vs List\n",
    "\n",
    "Sebelum kita masuk ke dalam materi, mari kita bahas ulang sedikit mengenai struktur data list dan bagaimana perbedaannya di dalam library Numpy"
   ]
  },
  {
   "cell_type": "code",
   "execution_count": 1,
   "id": "c4d715a0",
   "metadata": {},
   "outputs": [],
   "source": [
    "import numpy as np\n",
    "import random"
   ]
  },
  {
   "cell_type": "code",
   "execution_count": 2,
   "id": "203e2a47",
   "metadata": {},
   "outputs": [],
   "source": [
    "low = 1\n",
    "high = 10\n",
    "cols = 10\n",
    "rows = 2\n",
    "x0 = list(random.choices(range(low,high), k=cols)) # one dimensional\n",
    "x0_ = list(random.choices(range(low,high), k=cols) for _ in range(rows)) # multi dimensional"
   ]
  },
  {
   "cell_type": "code",
   "execution_count": 3,
   "id": "32f28abd",
   "metadata": {},
   "outputs": [
    {
     "data": {
      "text/plain": [
       "[9, 1, 9, 7, 5, 4, 3, 4, 6, 3]"
      ]
     },
     "execution_count": 3,
     "metadata": {},
     "output_type": "execute_result"
    }
   ],
   "source": [
    "x0"
   ]
  },
  {
   "cell_type": "code",
   "execution_count": 4,
   "id": "5744e63e",
   "metadata": {},
   "outputs": [
    {
     "data": {
      "text/plain": [
       "[[6, 9, 9, 5, 7, 5, 6, 9, 5, 3], [3, 2, 8, 7, 7, 6, 6, 2, 4, 1]]"
      ]
     },
     "execution_count": 4,
     "metadata": {},
     "output_type": "execute_result"
    }
   ],
   "source": [
    "x0_"
   ]
  },
  {
   "cell_type": "code",
   "execution_count": 5,
   "id": "8b7c4586",
   "metadata": {},
   "outputs": [
    {
     "data": {
      "text/plain": [
       "list"
      ]
     },
     "execution_count": 5,
     "metadata": {},
     "output_type": "execute_result"
    }
   ],
   "source": [
    "type(x0)"
   ]
  },
  {
   "cell_type": "code",
   "execution_count": 6,
   "id": "ee035d3a",
   "metadata": {},
   "outputs": [],
   "source": [
    "x1 = np.random.randint(10, size=10)  # One-dimensional array"
   ]
  },
  {
   "cell_type": "code",
   "execution_count": 7,
   "id": "689aff03",
   "metadata": {},
   "outputs": [
    {
     "data": {
      "text/plain": [
       "array([2, 7, 3, 2, 3, 8, 5, 8, 6, 9])"
      ]
     },
     "execution_count": 7,
     "metadata": {},
     "output_type": "execute_result"
    }
   ],
   "source": [
    "x1"
   ]
  },
  {
   "cell_type": "code",
   "execution_count": 8,
   "id": "db589586",
   "metadata": {},
   "outputs": [
    {
     "data": {
      "text/plain": [
       "numpy.ndarray"
      ]
     },
     "execution_count": 8,
     "metadata": {},
     "output_type": "execute_result"
    }
   ],
   "source": [
    "type(x1)"
   ]
  },
  {
   "cell_type": "markdown",
   "id": "551333c9",
   "metadata": {},
   "source": [
    "---\n",
    "# Numpy Array Attributes\n",
    "\n",
    "Pada sub-materi ini kita akan belajar mengenai attributes pada NumPy array. Sebelumnya, mari kita membuat 3 buah random array terlebih dahulu menggunakan NumPy's random number generator. One-dimensional, two-dimensional, dan three-dimensional array. "
   ]
  },
  {
   "cell_type": "code",
   "execution_count": 9,
   "id": "36c9a7c2",
   "metadata": {},
   "outputs": [],
   "source": [
    "import numpy as np\n",
    "np.random.seed(0)  # seed for reproducibility\n",
    "\n",
    "x1 = np.random.randint(10, size=6)  # One-dimensional array\n",
    "x2 = np.random.randint(10, size=(3, 4))  # Two-dimensional array\n",
    "x3 = np.random.randint(10, size=(3, 4, 5))  # Three-dimensional array"
   ]
  },
  {
   "cell_type": "code",
   "execution_count": 10,
   "id": "c9e62b91",
   "metadata": {},
   "outputs": [
    {
     "data": {
      "text/plain": [
       "array([5, 0, 3, 3, 7, 9])"
      ]
     },
     "execution_count": 10,
     "metadata": {},
     "output_type": "execute_result"
    }
   ],
   "source": [
    "x1"
   ]
  },
  {
   "cell_type": "code",
   "execution_count": 11,
   "id": "bd1e50e4",
   "metadata": {},
   "outputs": [
    {
     "data": {
      "text/plain": [
       "array([[3, 5, 2, 4],\n",
       "       [7, 6, 8, 8],\n",
       "       [1, 6, 7, 7]])"
      ]
     },
     "execution_count": 11,
     "metadata": {},
     "output_type": "execute_result"
    }
   ],
   "source": [
    "x2"
   ]
  },
  {
   "cell_type": "code",
   "execution_count": 12,
   "id": "c984dee0",
   "metadata": {},
   "outputs": [
    {
     "data": {
      "text/plain": [
       "array([[[8, 1, 5, 9, 8],\n",
       "        [9, 4, 3, 0, 3],\n",
       "        [5, 0, 2, 3, 8],\n",
       "        [1, 3, 3, 3, 7]],\n",
       "\n",
       "       [[0, 1, 9, 9, 0],\n",
       "        [4, 7, 3, 2, 7],\n",
       "        [2, 0, 0, 4, 5],\n",
       "        [5, 6, 8, 4, 1]],\n",
       "\n",
       "       [[4, 9, 8, 1, 1],\n",
       "        [7, 9, 9, 3, 6],\n",
       "        [7, 2, 0, 3, 5],\n",
       "        [9, 4, 4, 6, 4]]])"
      ]
     },
     "execution_count": 12,
     "metadata": {},
     "output_type": "execute_result"
    }
   ],
   "source": [
    "x3"
   ]
  },
  {
   "cell_type": "markdown",
   "id": "a05840d1",
   "metadata": {},
   "source": [
    "Untuk mengecek dimensi dari suatu array bisa digunakan `ndim`, untuk mengecek ukuran dari tiap dimensi bisa gunakan `shape`, dan kita bisa gunakan `size` untuk mengecek total ukuran dari suatu array"
   ]
  },
  {
   "cell_type": "code",
   "execution_count": 13,
   "id": "47347ce8",
   "metadata": {},
   "outputs": [
    {
     "name": "stdout",
     "output_type": "stream",
     "text": [
      "x3 ndim:  3\n",
      "x3 shape: (3, 4, 5)\n",
      "x3 size:  60\n"
     ]
    }
   ],
   "source": [
    "print(\"x3 ndim: \", x3.ndim)\n",
    "print(\"x3 shape:\", x3.shape)\n",
    "print(\"x3 size: \", x3.size)"
   ]
  },
  {
   "cell_type": "markdown",
   "id": "15faae4a",
   "metadata": {},
   "source": [
    "Attribute lain yang berguna adalah `dtype`, berguna untuk mengecek tipe data"
   ]
  },
  {
   "cell_type": "code",
   "execution_count": 14,
   "id": "e929780f",
   "metadata": {},
   "outputs": [
    {
     "name": "stdout",
     "output_type": "stream",
     "text": [
      "dtype: int64\n"
     ]
    }
   ],
   "source": [
    "print(\"dtype:\", x3.dtype)"
   ]
  },
  {
   "cell_type": "markdown",
   "id": "72ea74e9",
   "metadata": {},
   "source": [
    "Beberapa attribute lain yang bisa kita gunakan adalah `itemsize` (untuk mengecek size dari tiap elemen pada array dalam bentuk bytes) dan `nbytes` (yang berguna untuk mengecek total size dari sebuah array dalam bentuk bytes)"
   ]
  },
  {
   "cell_type": "code",
   "execution_count": 15,
   "id": "804755be",
   "metadata": {},
   "outputs": [
    {
     "name": "stdout",
     "output_type": "stream",
     "text": [
      "itemsize: 8 bytes\n",
      "nbytes: 480 bytes\n"
     ]
    }
   ],
   "source": [
    "print(\"itemsize:\", x3.itemsize, \"bytes\")\n",
    "print(\"nbytes:\", x3.nbytes, \"bytes\")"
   ]
  },
  {
   "cell_type": "markdown",
   "id": "310de4b2",
   "metadata": {},
   "source": [
    "---\n",
    "# Array Indexing: Accessing Single Elements\n",
    "\n",
    "Indexing pada Numpy array kurang lebih tidak jauh berbeda dengan list pada Python standar. Perhitungan index dimulai dari 0"
   ]
  },
  {
   "cell_type": "code",
   "execution_count": 16,
   "id": "322bd200",
   "metadata": {},
   "outputs": [
    {
     "data": {
      "text/plain": [
       "array([4, 3, 4, 4, 8, 4])"
      ]
     },
     "execution_count": 16,
     "metadata": {},
     "output_type": "execute_result"
    }
   ],
   "source": [
    "x1 = np.random.randint(10, size=6)\n",
    "x1"
   ]
  },
  {
   "cell_type": "markdown",
   "id": "b6ffb7db",
   "metadata": {},
   "source": [
    "Mengakses elemen pertama pada array (index=0)"
   ]
  },
  {
   "cell_type": "code",
   "execution_count": 17,
   "id": "013fccea",
   "metadata": {},
   "outputs": [
    {
     "data": {
      "text/plain": [
       "4"
      ]
     },
     "execution_count": 17,
     "metadata": {},
     "output_type": "execute_result"
    }
   ],
   "source": [
    "x1[0]"
   ]
  },
  {
   "cell_type": "markdown",
   "id": "711e3b79",
   "metadata": {},
   "source": [
    "Mengakses elemen kelima pada array"
   ]
  },
  {
   "cell_type": "code",
   "execution_count": 18,
   "id": "343e1324",
   "metadata": {},
   "outputs": [
    {
     "data": {
      "text/plain": [
       "8"
      ]
     },
     "execution_count": 18,
     "metadata": {},
     "output_type": "execute_result"
    }
   ],
   "source": [
    "x1[4]"
   ]
  },
  {
   "cell_type": "markdown",
   "id": "696e5af2",
   "metadata": {},
   "source": [
    "Mengakses elemen dari paling belakang"
   ]
  },
  {
   "cell_type": "code",
   "execution_count": 19,
   "id": "60ac469c",
   "metadata": {},
   "outputs": [
    {
     "data": {
      "text/plain": [
       "4"
      ]
     },
     "execution_count": 19,
     "metadata": {},
     "output_type": "execute_result"
    }
   ],
   "source": [
    "x1[-1]"
   ]
  },
  {
   "cell_type": "markdown",
   "id": "ca9255fd",
   "metadata": {},
   "source": [
    "Mengakses elemen kedua dari belakang"
   ]
  },
  {
   "cell_type": "code",
   "execution_count": 20,
   "id": "e9fa42ce",
   "metadata": {},
   "outputs": [
    {
     "data": {
      "text/plain": [
       "8"
      ]
     },
     "execution_count": 20,
     "metadata": {},
     "output_type": "execute_result"
    }
   ],
   "source": [
    "x1[-2]"
   ]
  },
  {
   "cell_type": "markdown",
   "id": "4bf3abc6",
   "metadata": {},
   "source": [
    "Pada multi-dimensional array, item-item pada array dapat di akses menggunakan notasi seperti tuple (comma-separated tuple of indices). Contoh di bawah kita buat array dua dimensi terlebih dahulu"
   ]
  },
  {
   "cell_type": "code",
   "execution_count": 21,
   "id": "108cefce",
   "metadata": {},
   "outputs": [
    {
     "data": {
      "text/plain": [
       "array([[3, 7, 5, 5],\n",
       "       [0, 1, 5, 9],\n",
       "       [3, 0, 5, 0]])"
      ]
     },
     "execution_count": 21,
     "metadata": {},
     "output_type": "execute_result"
    }
   ],
   "source": [
    "x2 = np.random.randint(10, size=(3, 4))\n",
    "x2"
   ]
  },
  {
   "cell_type": "markdown",
   "id": "16741cec",
   "metadata": {},
   "source": [
    "Mengakses index `(0, 0)` --> `(index baris, index kolom)`"
   ]
  },
  {
   "cell_type": "code",
   "execution_count": 22,
   "id": "180c94af",
   "metadata": {},
   "outputs": [
    {
     "data": {
      "text/plain": [
       "3"
      ]
     },
     "execution_count": 22,
     "metadata": {},
     "output_type": "execute_result"
    }
   ],
   "source": [
    "x2[0, 0]"
   ]
  },
  {
   "cell_type": "markdown",
   "id": "723ac167",
   "metadata": {},
   "source": [
    "Mengakses index (2, 0)"
   ]
  },
  {
   "cell_type": "code",
   "execution_count": 23,
   "id": "b0b24b82",
   "metadata": {},
   "outputs": [
    {
     "data": {
      "text/plain": [
       "3"
      ]
     },
     "execution_count": 23,
     "metadata": {},
     "output_type": "execute_result"
    }
   ],
   "source": [
    "x2[2, 0]"
   ]
  },
  {
   "cell_type": "markdown",
   "id": "cce91a1c",
   "metadata": {},
   "source": [
    "Mengakses index (2, -1)"
   ]
  },
  {
   "cell_type": "code",
   "execution_count": 24,
   "id": "e96d6a61",
   "metadata": {},
   "outputs": [
    {
     "data": {
      "text/plain": [
       "0"
      ]
     },
     "execution_count": 24,
     "metadata": {},
     "output_type": "execute_result"
    }
   ],
   "source": [
    "x2[2, -1]"
   ]
  },
  {
   "cell_type": "markdown",
   "id": "7a023213",
   "metadata": {},
   "source": [
    "Nilai pada tiap item juga dapat dimodifikasi menggunakan index-index tuple di atas. Misal kita ingin mengganti index (0, 0) maka:"
   ]
  },
  {
   "cell_type": "code",
   "execution_count": 25,
   "id": "c27f57e2",
   "metadata": {},
   "outputs": [],
   "source": [
    "x2[0, 0] = 12 # from 5 to 12"
   ]
  },
  {
   "cell_type": "code",
   "execution_count": 26,
   "id": "06282238",
   "metadata": {},
   "outputs": [
    {
     "data": {
      "text/plain": [
       "12"
      ]
     },
     "execution_count": 26,
     "metadata": {},
     "output_type": "execute_result"
    }
   ],
   "source": [
    "x2[0, 0]"
   ]
  },
  {
   "cell_type": "code",
   "execution_count": 27,
   "id": "5f07a4e7",
   "metadata": {},
   "outputs": [
    {
     "data": {
      "text/plain": [
       "array([[12,  7,  5,  5],\n",
       "       [ 0,  1,  5,  9],\n",
       "       [ 3,  0,  5,  0]])"
      ]
     },
     "execution_count": 27,
     "metadata": {},
     "output_type": "execute_result"
    }
   ],
   "source": [
    "x2"
   ]
  },
  {
   "cell_type": "markdown",
   "id": "39f6e91d",
   "metadata": {},
   "source": [
    "Perhatikan bahwa, tidak seperti pada List, dalam NumPy sebuah array memiliki tipe yang fixed. Hal ini berarti jika kita ingin melakukan insert value dengan floating-point ke dalam integer array, nilai tsb akan terpotong (truncated)."
   ]
  },
  {
   "cell_type": "code",
   "execution_count": 28,
   "metadata": {},
   "outputs": [
    {
     "data": {
      "text/plain": [
       "array([4, 3, 4, 4, 8, 4])"
      ]
     },
     "execution_count": 28,
     "metadata": {},
     "output_type": "execute_result"
    }
   ],
   "source": [
    "x1"
   ]
  },
  {
   "cell_type": "code",
   "execution_count": 29,
   "id": "05a87526",
   "metadata": {},
   "outputs": [],
   "source": [
    "x1[0] = 3.14159"
   ]
  },
  {
   "cell_type": "code",
   "execution_count": 30,
   "id": "ca9c0b11",
   "metadata": {},
   "outputs": [
    {
     "data": {
      "text/plain": [
       "array([3, 3, 4, 4, 8, 4])"
      ]
     },
     "execution_count": 30,
     "metadata": {},
     "output_type": "execute_result"
    }
   ],
   "source": [
    "x1"
   ]
  },
  {
   "cell_type": "code",
   "execution_count": 31,
   "metadata": {},
   "outputs": [
    {
     "data": {
      "text/plain": [
       "array([5, 3, 4, 4, 8, 4])"
      ]
     },
     "execution_count": 31,
     "metadata": {},
     "output_type": "execute_result"
    }
   ],
   "source": [
    "x1[0] = 5\n",
    "x1"
   ]
  },
  {
   "cell_type": "markdown",
   "id": "3cc4e401",
   "metadata": {},
   "source": [
    "---\n",
    "\n",
    "# Array Slicing: Accessing Subarrays\n",
    "\n",
    "Pada indexing kita telah belajar bagaimana `[]` dapat mengakses tiap elemen dari array. Pada submateri ini kita akan belajar bagaimana cara mengakses beberapa item sekaligus atau yg sering disebut dengan slicing. Caranya kurang lebih sama dengan indexing, namun kita hanya perlu menambahkan `:` untuk jarak index yang ingin kita ambil. Syntax slicing pada Numpy adalah sbb:\n",
    "\n",
    "```\n",
    "x[start:stop:step]\n",
    "```\n",
    "\n",
    "Jika salah satu dari parameter ini tidak diisi, maka default value-nya adalah `start=0`, `stop=size of dimension`, `step=1`"
   ]
  },
  {
   "cell_type": "markdown",
   "id": "358bd27a",
   "metadata": {},
   "source": [
    "## One-Dimensional Subarrays\n",
    "\n",
    "Pertama, kita buat kembali one-dimensional array dengan panjang 10 elemen"
   ]
  },
  {
   "cell_type": "code",
   "execution_count": 32,
   "id": "f5b8173c",
   "metadata": {},
   "outputs": [
    {
     "data": {
      "text/plain": [
       "array([0, 1, 2, 3, 4, 5, 6, 7, 8, 9])"
      ]
     },
     "execution_count": 32,
     "metadata": {},
     "output_type": "execute_result"
    }
   ],
   "source": [
    "x = np.arange(10)\n",
    "x"
   ]
  },
  {
   "cell_type": "markdown",
   "id": "cb6d2f65",
   "metadata": {},
   "source": [
    "Mengakses 5 elemen pertama pada array"
   ]
  },
  {
   "cell_type": "code",
   "execution_count": 33,
   "id": "028e9cb4",
   "metadata": {},
   "outputs": [
    {
     "data": {
      "text/plain": [
       "array([0, 1, 2, 3, 4])"
      ]
     },
     "execution_count": 33,
     "metadata": {},
     "output_type": "execute_result"
    }
   ],
   "source": [
    "x[:5]  # first five elements"
   ]
  },
  {
   "cell_type": "markdown",
   "id": "e93e0b6c",
   "metadata": {},
   "source": [
    "Mengakses elemen-elemen setelah index ke 5"
   ]
  },
  {
   "cell_type": "code",
   "execution_count": 34,
   "id": "2cd94841",
   "metadata": {},
   "outputs": [
    {
     "data": {
      "text/plain": [
       "array([5, 6, 7, 8, 9])"
      ]
     },
     "execution_count": 34,
     "metadata": {},
     "output_type": "execute_result"
    }
   ],
   "source": [
    "x[5:]  # elements after index 5"
   ]
  },
  {
   "cell_type": "markdown",
   "id": "513c51c2",
   "metadata": {},
   "source": [
    "### Exercises:\n",
    "1. Tampilkan elemen yang berada pada tengah-tengah array. Hint: sub-array antara index 4 dan 7"
   ]
  },
  {
   "cell_type": "code",
   "execution_count": 35,
   "id": "7c34621d",
   "metadata": {},
   "outputs": [
    {
     "data": {
      "text/plain": [
       "array([0, 1, 2, 3, 4, 5, 6, 7, 8, 9])"
      ]
     },
     "execution_count": 35,
     "metadata": {},
     "output_type": "execute_result"
    }
   ],
   "source": [
    "x = np.arange(10)\n",
    "x"
   ]
  },
  {
   "cell_type": "code",
   "execution_count": 36,
   "id": "cb652134",
   "metadata": {},
   "outputs": [
    {
     "data": {
      "text/plain": [
       "array([4, 5, 6])"
      ]
     },
     "execution_count": 36,
     "metadata": {},
     "output_type": "execute_result"
    }
   ],
   "source": [
    "x[4:7]  # middle sub-array"
   ]
  },
  {
   "cell_type": "markdown",
   "id": "1db99904",
   "metadata": {},
   "source": [
    "2. Tampilkan elemen angka bilangan genap saja"
   ]
  },
  {
   "cell_type": "code",
   "execution_count": 37,
   "id": "5148f62e",
   "metadata": {},
   "outputs": [
    {
     "data": {
      "text/plain": [
       "array([0, 2, 4, 6, 8])"
      ]
     },
     "execution_count": 37,
     "metadata": {},
     "output_type": "execute_result"
    }
   ],
   "source": [
    "x[::2]"
   ]
  },
  {
   "cell_type": "markdown",
   "id": "088d031f",
   "metadata": {},
   "source": [
    "3. Tampilkan elemen angka bilangan ganjil"
   ]
  },
  {
   "cell_type": "code",
   "execution_count": 38,
   "id": "31be7948",
   "metadata": {},
   "outputs": [
    {
     "data": {
      "text/plain": [
       "array([1, 3, 5, 7, 9])"
      ]
     },
     "execution_count": 38,
     "metadata": {},
     "output_type": "execute_result"
    }
   ],
   "source": [
    "x[1::2]"
   ]
  },
  {
   "cell_type": "markdown",
   "id": "9e2c94cf",
   "metadata": {},
   "source": [
    "4. Tampilkan keseluruhan elemen urut dari belakang"
   ]
  },
  {
   "cell_type": "code",
   "execution_count": 39,
   "id": "658891c7",
   "metadata": {},
   "outputs": [
    {
     "data": {
      "text/plain": [
       "array([9, 8, 7, 6, 5, 4, 3, 2, 1, 0])"
      ]
     },
     "execution_count": 39,
     "metadata": {},
     "output_type": "execute_result"
    }
   ],
   "source": [
    "x[::-1]  # all elements, reversed"
   ]
  },
  {
   "cell_type": "markdown",
   "id": "509409ed",
   "metadata": {},
   "source": [
    "5. Tampilkan seluruh elemen ganjil dari belakang"
   ]
  },
  {
   "cell_type": "code",
   "execution_count": 40,
   "id": "56005bdd",
   "metadata": {},
   "outputs": [
    {
     "data": {
      "text/plain": [
       "array([9, 7, 5, 3, 1])"
      ]
     },
     "execution_count": 40,
     "metadata": {},
     "output_type": "execute_result"
    }
   ],
   "source": [
    "x[::-2]"
   ]
  },
  {
   "cell_type": "markdown",
   "id": "c174a5bf",
   "metadata": {},
   "source": [
    "## Multi-Dimensional Subarrays"
   ]
  },
  {
   "cell_type": "code",
   "execution_count": 41,
   "id": "1e73bdf5",
   "metadata": {},
   "outputs": [
    {
     "data": {
      "text/plain": [
       "array([[1, 2, 4, 2],\n",
       "       [0, 3, 2, 0],\n",
       "       [7, 5, 9, 0]])"
      ]
     },
     "execution_count": 41,
     "metadata": {},
     "output_type": "execute_result"
    }
   ],
   "source": [
    "x2 = np.random.randint(10, size=(3, 4))  # Two-dimensional array\n",
    "x2"
   ]
  },
  {
   "cell_type": "code",
   "execution_count": 42,
   "id": "16522ba4",
   "metadata": {},
   "outputs": [
    {
     "data": {
      "text/plain": [
       "array([[1, 2, 4],\n",
       "       [0, 3, 2]])"
      ]
     },
     "execution_count": 42,
     "metadata": {},
     "output_type": "execute_result"
    }
   ],
   "source": [
    "x2[:2, :3]  # two rows, three columns"
   ]
  },
  {
   "cell_type": "code",
   "execution_count": 43,
   "id": "400b149c",
   "metadata": {},
   "outputs": [
    {
     "data": {
      "text/plain": [
       "array([[1, 4],\n",
       "       [0, 2]])"
      ]
     },
     "execution_count": 43,
     "metadata": {},
     "output_type": "execute_result"
    }
   ],
   "source": [
    "x2[:2, ::2]  # all rows, every other column"
   ]
  },
  {
   "cell_type": "code",
   "execution_count": 44,
   "id": "746771fc",
   "metadata": {},
   "outputs": [
    {
     "data": {
      "text/plain": [
       "array([[0, 9, 5, 7],\n",
       "       [0, 2, 3, 0],\n",
       "       [2, 4, 2, 1]])"
      ]
     },
     "execution_count": 44,
     "metadata": {},
     "output_type": "execute_result"
    }
   ],
   "source": [
    "x2[::-1, ::-1]"
   ]
  },
  {
   "cell_type": "markdown",
   "id": "86031fe6",
   "metadata": {},
   "source": [
    "### Accessing array rows and columns"
   ]
  },
  {
   "cell_type": "code",
   "execution_count": 45,
   "id": "c9ae1e54",
   "metadata": {},
   "outputs": [
    {
     "name": "stdout",
     "output_type": "stream",
     "text": [
      "[1 0 7]\n"
     ]
    }
   ],
   "source": [
    "print(x2[:, 0])  # first column of x2"
   ]
  },
  {
   "cell_type": "code",
   "execution_count": 46,
   "id": "b1051b43",
   "metadata": {},
   "outputs": [
    {
     "name": "stdout",
     "output_type": "stream",
     "text": [
      "[1 2 4 2]\n"
     ]
    }
   ],
   "source": [
    "print(x2[0, :])  # first row of x2"
   ]
  },
  {
   "cell_type": "code",
   "execution_count": 47,
   "id": "ac9fb6ca",
   "metadata": {},
   "outputs": [
    {
     "name": "stdout",
     "output_type": "stream",
     "text": [
      "[1 2 4 2]\n"
     ]
    }
   ],
   "source": [
    "print(x2[0])  # equivalent to x2[0, :]"
   ]
  },
  {
   "cell_type": "markdown",
   "id": "0abb3714",
   "metadata": {},
   "source": [
    "## Subarrays as No-Copy Views"
   ]
  },
  {
   "cell_type": "markdown",
   "id": "2120604d",
   "metadata": {},
   "source": [
    "### Creating Copies of Arrays"
   ]
  },
  {
   "cell_type": "code",
   "execution_count": 48,
   "id": "a6c7e3bc",
   "metadata": {},
   "outputs": [
    {
     "name": "stdout",
     "output_type": "stream",
     "text": [
      "[[1 2]\n",
      " [0 3]]\n"
     ]
    }
   ],
   "source": [
    "x2_sub_copy = x2[:2, :2].copy()\n",
    "print(x2_sub_copy)"
   ]
  },
  {
   "cell_type": "code",
   "execution_count": 49,
   "id": "b3376d8c",
   "metadata": {},
   "outputs": [
    {
     "name": "stdout",
     "output_type": "stream",
     "text": [
      "[[42  2]\n",
      " [ 0  3]]\n"
     ]
    }
   ],
   "source": [
    "x2_sub_copy[0, 0] = 42\n",
    "print(x2_sub_copy)"
   ]
  },
  {
   "cell_type": "code",
   "execution_count": 50,
   "id": "91892ad0",
   "metadata": {},
   "outputs": [
    {
     "name": "stdout",
     "output_type": "stream",
     "text": [
      "[[1 2 4 2]\n",
      " [0 3 2 0]\n",
      " [7 5 9 0]]\n"
     ]
    }
   ],
   "source": [
    "print(x2)"
   ]
  },
  {
   "cell_type": "markdown",
   "id": "7f52fff7",
   "metadata": {},
   "source": [
    "## Reshaping of Arrays\n",
    "\n",
    "Reshaping array adalah suatu metode untuk merubah bentuk dimensi dari array. Sesuai namanya, reshape berarti merubah bentuk. Cara yang paling mudah untuk melakukan metode ini adalah dengan menggunakan `reshape` method.\n",
    "\n",
    "Contoh, jika kita ingin merubah array satu dimensi dengan panjang elemen 9 menjadi sebuah matrix (array dua dimensi) berukuran $3 \\times 3$, dapat dilakukan dengan cara sbb:"
   ]
  },
  {
   "cell_type": "code",
   "execution_count": 51,
   "id": "6b165591",
   "metadata": {},
   "outputs": [
    {
     "name": "stdout",
     "output_type": "stream",
     "text": [
      "[[1 2 3]\n",
      " [4 5 6]\n",
      " [7 8 9]]\n"
     ]
    }
   ],
   "source": [
    "grid = np.arange(1, 10).reshape((3, 3))\n",
    "print(grid)"
   ]
  },
  {
   "cell_type": "markdown",
   "id": "b0e16a5a",
   "metadata": {},
   "source": [
    "Perhatikan bahwa ukuran array awal harus sesuai dengan ukuran array yang ingin dibentuk. Misal ingin membuat matrix $2 \\times 2$ maka kita butuh one-dimensional array berukuran panjang 4 elemen"
   ]
  },
  {
   "cell_type": "code",
   "execution_count": 52,
   "id": "f632bdc5",
   "metadata": {},
   "outputs": [
    {
     "data": {
      "text/plain": [
       "array([1, 2, 3])"
      ]
     },
     "execution_count": 52,
     "metadata": {},
     "output_type": "execute_result"
    }
   ],
   "source": [
    "x = np.array([1, 2, 3])\n",
    "x"
   ]
  },
  {
   "cell_type": "code",
   "execution_count": 53,
   "id": "2b0e5186",
   "metadata": {},
   "outputs": [
    {
     "data": {
      "text/plain": [
       "array([[1, 2, 3]])"
      ]
     },
     "execution_count": 53,
     "metadata": {},
     "output_type": "execute_result"
    }
   ],
   "source": [
    "# row vector via reshape\n",
    "x.reshape((1, 3))"
   ]
  },
  {
   "cell_type": "code",
   "execution_count": 54,
   "id": "47049e30",
   "metadata": {},
   "outputs": [
    {
     "data": {
      "text/plain": [
       "array([[1],\n",
       "       [2],\n",
       "       [3]])"
      ]
     },
     "execution_count": 54,
     "metadata": {},
     "output_type": "execute_result"
    }
   ],
   "source": [
    "# column vector via reshape\n",
    "x.reshape((3, 1))"
   ]
  },
  {
   "cell_type": "code",
   "execution_count": 55,
   "id": "981e9d36",
   "metadata": {},
   "outputs": [
    {
     "data": {
      "text/plain": [
       "array([[1, 2, 3]])"
      ]
     },
     "execution_count": 55,
     "metadata": {},
     "output_type": "execute_result"
    }
   ],
   "source": [
    "# row vector via newaxis\n",
    "x[np.newaxis, :]"
   ]
  },
  {
   "cell_type": "code",
   "execution_count": 56,
   "id": "0a5adad3",
   "metadata": {},
   "outputs": [
    {
     "data": {
      "text/plain": [
       "array([[1],\n",
       "       [2],\n",
       "       [3]])"
      ]
     },
     "execution_count": 56,
     "metadata": {},
     "output_type": "execute_result"
    }
   ],
   "source": [
    "# column vector via reshape\n",
    "x.reshape((3, 1))"
   ]
  },
  {
   "cell_type": "markdown",
   "id": "776a6fe7",
   "metadata": {},
   "source": [
    "# Array Concatenation and Splitting\n",
    "\n"
   ]
  },
  {
   "cell_type": "markdown",
   "id": "b7cfa79f",
   "metadata": {},
   "source": [
    "## Concatenation of Arrays\n",
    "\n",
    "Array concat, atau join dua array pada NumPy dapat dilakukan dengan menggunakan method `np.concatenate`, `np.vstack`, dan `np.hstack`. `np.concatenate` menggunakan format tuple atau list of array sebagai argumen/parameternya, seperti yang dapat kita lihat pada contoh di bawah ini:"
   ]
  },
  {
   "cell_type": "code",
   "execution_count": 57,
   "id": "07d7ad2e",
   "metadata": {},
   "outputs": [
    {
     "data": {
      "text/plain": [
       "array([1, 2, 3, 3, 2, 1])"
      ]
     },
     "execution_count": 57,
     "metadata": {},
     "output_type": "execute_result"
    }
   ],
   "source": [
    "x = np.array([1, 2, 3])\n",
    "y = np.array([3, 2, 1])\n",
    "np.concatenate([x, y])"
   ]
  },
  {
   "cell_type": "markdown",
   "id": "bfebb28d",
   "metadata": {},
   "source": [
    "Kita juga dapat melakukan concat pada lebih dari dua array dalam satu buah syntax"
   ]
  },
  {
   "cell_type": "code",
   "execution_count": 58,
   "id": "604f3f26",
   "metadata": {},
   "outputs": [
    {
     "name": "stdout",
     "output_type": "stream",
     "text": [
      "[ 1  2  3  3  2  1 99 99 99]\n"
     ]
    }
   ],
   "source": [
    "z = [99, 99, 99]\n",
    "\n",
    "print(np.concatenate([x, y, z]))"
   ]
  },
  {
   "cell_type": "markdown",
   "id": "272577a6",
   "metadata": {},
   "source": [
    "Dapat dilakukan juga pada array dua dimensi"
   ]
  },
  {
   "cell_type": "code",
   "execution_count": 59,
   "id": "ae808605",
   "metadata": {},
   "outputs": [],
   "source": [
    "grid = np.array([[1, 2, 3],\n",
    "                 [4, 5, 6]])"
   ]
  },
  {
   "cell_type": "code",
   "execution_count": 60,
   "id": "703cbe46",
   "metadata": {},
   "outputs": [
    {
     "data": {
      "text/plain": [
       "array([[1, 2, 3],\n",
       "       [4, 5, 6],\n",
       "       [1, 2, 3],\n",
       "       [4, 5, 6]])"
      ]
     },
     "execution_count": 60,
     "metadata": {},
     "output_type": "execute_result"
    }
   ],
   "source": [
    "# concatenate along the first axis\n",
    "np.concatenate([grid, grid])"
   ]
  },
  {
   "cell_type": "markdown",
   "id": "1a462ee7",
   "metadata": {},
   "source": [
    "Jika kita mengaktifkan `axis=1` maka array akan di concat secara horizontal"
   ]
  },
  {
   "cell_type": "code",
   "execution_count": 61,
   "id": "b61c79fb",
   "metadata": {},
   "outputs": [
    {
     "data": {
      "text/plain": [
       "array([[1, 2, 3, 1, 2, 3],\n",
       "       [4, 5, 6, 4, 5, 6]])"
      ]
     },
     "execution_count": 61,
     "metadata": {},
     "output_type": "execute_result"
    }
   ],
   "source": [
    "# concatenate along the second axis (zero-indexed)\n",
    "np.concatenate([grid, grid], axis=1)"
   ]
  },
  {
   "cell_type": "markdown",
   "id": "eee1b3e5",
   "metadata": {},
   "source": [
    "Jika kita bekerja dengan array mixed dimensions, maka akan lebih mudah dan jelas jika kita menggunakan `np.vstack` (untuk melakukan stacking/concat secara vertikal) dan `np.hstack` (untuk melakukan stacking/concat secara horizontal)"
   ]
  },
  {
   "cell_type": "code",
   "execution_count": 62,
   "id": "0f9896fd",
   "metadata": {},
   "outputs": [
    {
     "data": {
      "text/plain": [
       "array([[1, 2, 3],\n",
       "       [9, 8, 7],\n",
       "       [6, 5, 4]])"
      ]
     },
     "execution_count": 62,
     "metadata": {},
     "output_type": "execute_result"
    }
   ],
   "source": [
    "x = np.array([1, 2, 3])\n",
    "grid = np.array([[9, 8, 7],\n",
    "                 [6, 5, 4]])\n",
    "\n",
    "# vertically stack the arrays\n",
    "np.vstack([x, grid])"
   ]
  },
  {
   "cell_type": "code",
   "execution_count": 63,
   "id": "44a8f63a",
   "metadata": {},
   "outputs": [
    {
     "data": {
      "text/plain": [
       "array([[ 9,  8,  7, 99],\n",
       "       [ 6,  5,  4, 99]])"
      ]
     },
     "execution_count": 63,
     "metadata": {},
     "output_type": "execute_result"
    }
   ],
   "source": [
    "# horizontally stack the arrays\n",
    "y = np.array([[99],\n",
    "              [99]])\n",
    "np.hstack([grid, y])"
   ]
  },
  {
   "cell_type": "markdown",
   "id": "a1486197",
   "metadata": {},
   "source": [
    "## Splitting of Arrays\n",
    "\n",
    "Pada data array, lawan dari concat/join/stack adalah splitting, dimana pada Numpy, splitting diimplementasi dengan function `np.split`, `np.hsplit` dan `np.vsplit`"
   ]
  },
  {
   "cell_type": "code",
   "execution_count": 64,
   "id": "b8d9a225",
   "metadata": {},
   "outputs": [
    {
     "name": "stdout",
     "output_type": "stream",
     "text": [
      "[1 2] [1 2] [1 2] [1 2]\n"
     ]
    }
   ],
   "source": [
    "x = [1, 2, 1, 2, 1, 2, 1, 2]\n",
    "x1, x2, x3, x4 = np.split(x, [2,4,6]) # tempat naro splitter\n",
    "print(x1, x2, x3, x4)"
   ]
  },
  {
   "cell_type": "code",
   "execution_count": 65,
   "id": "67ced195",
   "metadata": {},
   "outputs": [
    {
     "data": {
      "text/plain": [
       "array([[ 0,  1,  2,  3],\n",
       "       [ 4,  5,  6,  7],\n",
       "       [ 8,  9, 10, 11],\n",
       "       [12, 13, 14, 15]])"
      ]
     },
     "execution_count": 65,
     "metadata": {},
     "output_type": "execute_result"
    }
   ],
   "source": [
    "grid = np.arange(16).reshape((4, 4))\n",
    "grid"
   ]
  },
  {
   "cell_type": "code",
   "execution_count": 66,
   "id": "fb99bb99",
   "metadata": {},
   "outputs": [
    {
     "name": "stdout",
     "output_type": "stream",
     "text": [
      "[[0 1 2 3]\n",
      " [4 5 6 7]]\n",
      "[[ 8  9 10 11]\n",
      " [12 13 14 15]]\n"
     ]
    }
   ],
   "source": [
    "upper, lower = np.vsplit(grid, [2])\n",
    "print(upper)\n",
    "print(lower)"
   ]
  },
  {
   "cell_type": "code",
   "execution_count": 67,
   "id": "dd309eba",
   "metadata": {},
   "outputs": [
    {
     "name": "stdout",
     "output_type": "stream",
     "text": [
      "[[ 0  1]\n",
      " [ 4  5]\n",
      " [ 8  9]\n",
      " [12 13]]\n",
      "[[ 2  3]\n",
      " [ 6  7]\n",
      " [10 11]\n",
      " [14 15]]\n"
     ]
    }
   ],
   "source": [
    "left, right = np.hsplit(grid, [2])\n",
    "print(left)\n",
    "print(right)"
   ]
  }
 ],
 "metadata": {
  "kernelspec": {
   "display_name": "Python 3 (ipykernel)",
   "language": "python",
   "name": "python3"
  },
  "language_info": {
   "codemirror_mode": {
    "name": "ipython",
    "version": 3
   },
   "file_extension": ".py",
   "mimetype": "text/x-python",
   "name": "python",
   "nbconvert_exporter": "python",
   "pygments_lexer": "ipython3",
   "version": "3.10.12"
  }
 },
 "nbformat": 4,
 "nbformat_minor": 5
}
