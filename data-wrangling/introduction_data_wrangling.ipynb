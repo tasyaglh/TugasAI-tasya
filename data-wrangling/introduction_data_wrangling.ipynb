{
 "cells": [
  {
   "cell_type": "markdown",
   "id": "3a5f53a4",
   "metadata": {},
   "source": [
    "\n",
    "# Data Wrangling\n",
    "\n",
    "## Apa itu Data Wrangling?\n",
    "- Disebut juga dengan *Data Munging*\n",
    "- Proses untuk mentransformasi data mentah menjadi format yang diinginkan.\n",
    "- Transformasi tersebut termasuk membersihkan, menstrukturkan, dan mengubah format data.\n",
    "- Setelah data ditransformasi menjadi bentuk yang sesuai, maka dapat dilakukan proses lebih lanjut seperti:\n",
    "    - Analisis data\n",
    "    - Agregasi data\n",
    "    - Visualisasi data\n",
    "    - Membuat model statistik/prediksi\n",
    "    - dll\n",
    "\n",
    "## Data Wrangling dalam Python\n",
    "Pada pertemuan sebelumnya telah dibahas struktur data dasar pada Python seperti:\n",
    "* Tuple\n",
    "* List\n",
    "* Set\n",
    "* Dictionary"
   ]
  },
  {
   "cell_type": "markdown",
   "id": "dc9509ad",
   "metadata": {},
   "source": [
    "**Contoh Tuple dan List**"
   ]
  },
  {
   "cell_type": "code",
   "execution_count": 1,
   "id": "ef57b854",
   "metadata": {},
   "outputs": [
    {
     "name": "stdout",
     "output_type": "stream",
     "text": [
      "('mangga', 'jeruk', 'nanas', 'apel', 'salak')\n"
     ]
    }
   ],
   "source": [
    "tuple_1 = ('mangga','jeruk','nanas','apel','salak')\n",
    "print(tuple_1)"
   ]
  },
  {
   "cell_type": "code",
   "execution_count": 2,
   "id": "f7d265fc",
   "metadata": {},
   "outputs": [
    {
     "name": "stdout",
     "output_type": "stream",
     "text": [
      "[[2, 5, 4], [3, 4, 7], [8, 2, 7]]\n"
     ]
    }
   ],
   "source": [
    "nested_list = [[2, 5, 4],[3, 4, 7],[8, 2, 7]]\n",
    "print(nested_list)"
   ]
  },
  {
   "cell_type": "markdown",
   "id": "a4bfdaca",
   "metadata": {},
   "source": [
    "**Contoh Set dan Dictionary**"
   ]
  },
  {
   "cell_type": "code",
   "execution_count": 3,
   "id": "813fb484",
   "metadata": {},
   "outputs": [
    {
     "name": "stdout",
     "output_type": "stream",
     "text": [
      "{1, 2, 3, 4, 5, 6, 7}\n"
     ]
    }
   ],
   "source": [
    "set_1 = {1,3,4,4,5,4,7,7,6,5,2}\n",
    "print(set_1)"
   ]
  },
  {
   "cell_type": "code",
   "execution_count": 4,
   "id": "004ecd4a",
   "metadata": {},
   "outputs": [
    {
     "name": "stdout",
     "output_type": "stream",
     "text": [
      "{'Budi': {'IPA': 80, 'IPS': 90}, 'Tono': {'IPA': 95, 'IPS': 77}}\n"
     ]
    }
   ],
   "source": [
    "dict_1 = {'Budi':{'IPA':80, 'IPS':90}, 'Tono':{'IPA':95, 'IPS':77}}\n",
    "print(dict_1)"
   ]
  },
  {
   "cell_type": "markdown",
   "id": "200cd0da",
   "metadata": {},
   "source": [
    "### Permasalahan\n",
    "\n",
    "Dengan tipe struktur data di atas, kita sudah bisa memanipulasi data. Namun, bagaimana jika data yang dianalisis berbentuk tabular seperti ini?\n",
    "\n",
    "<img src=\"https://d13ot9o61jdzpp.cloudfront.net/images/tabular_data_1_the_perfect_format.png\" alt=\"Drawing\" width= 500px;/>\n",
    "\n",
    "<small>[Source](https://d13ot9o61jdzpp.cloudfront.net/images/tabular_data_1_the_perfect_format.png)</small>\n",
    "\n",
    "Data tabular seperti itu seringkali disimpan dalam format `.xlsx` atau `.csv`. Sehingga akan cukup sulit jika kita ingin mengolah data tersebut kedalam struktur data dasar. Walaupun secara praktek sebenarnya dapat dilakukan."
   ]
  },
  {
   "cell_type": "markdown",
   "id": "b214cb10",
   "metadata": {},
   "source": [
    "### Pandas\n",
    "<img src=\"https://upload.wikimedia.org/wikipedia/commons/thumb/e/ed/Pandas_logo.svg/1200px-Pandas_logo.svg.png\" alt=\"Drawing\" width= 300px;/>\n",
    "\n",
    "<small>[Source](https://upload.wikimedia.org/wikipedia/commons/thumb/e/ed/Pandas_logo.svg/1200px-Pandas_logo.svg.png)</small>\n",
    "\n",
    "Untuk mempermudah kita untuk menganalisis data maka kita dapat menggunakan `library` tambahan di dalam Python yang disebut dengan **Pandas**.\n",
    "* Library ini dibuat khusus untuk kebutuhan manipulasi data dan analisis data pada Python.\n",
    "* Pandas bersifat _open-source_, sehingga dapat diunduh dengan bebas."
   ]
  },
  {
   "cell_type": "markdown",
   "id": "07edd32a",
   "metadata": {},
   "source": [
    "#### Menggunakan Pandas\n",
    "\n",
    "* Sebelum menggunakan pandas, maka kita harus memastikan di dalam sistem kita sudah terinstall pandas.\n",
    "* Jika belum, maka dapat digunakan perintah `pip install pandas` pada terminal / command prompt.\n",
    "* Untuk menggunakan pandas, langkah pertama yang dilakukan adalah dengan _import_ library pandas."
   ]
  },
  {
   "cell_type": "code",
   "execution_count": 5,
   "id": "4abbf8bb",
   "metadata": {},
   "outputs": [],
   "source": [
    "import pandas as pd"
   ]
  },
  {
   "cell_type": "markdown",
   "id": "885a01a3",
   "metadata": {},
   "source": [
    "* Pada perintah diatas kita mengimport `pandas` sebagai `pd`.\n",
    "* Yang berarti untuk selanjutnya kita dapat memanggil `pandas` dengan `pd`."
   ]
  },
  {
   "cell_type": "markdown",
   "id": "b779e10d",
   "metadata": {},
   "source": [
    "#### Struktur Data Pandas\n",
    "\n",
    "* Sebelum masuk lebih jauh, akan dikenalkan dulu tipe struktur data pada `pandas`.\n",
    "* Jika Python memiliki struktur data seperti `tuple`,`list`,`dictionary`, dll.\n",
    "* Maka Pandas memiliki dua tipe struktur data utama yang bernama `Series` dan `DataFrame`"
   ]
  },
  {
   "cell_type": "markdown",
   "id": "a0919fc0",
   "metadata": {},
   "source": [
    "##### Series\n",
    "\n",
    "* Series adalah struktur data satu dimensi pada Pandas.\n",
    "* Jika diibaratkan, Series adalah `list` satu dimensi pada Python.\n",
    "* Kita dapat membuat `Series` dari `list` sederhana."
   ]
  },
  {
   "cell_type": "code",
   "execution_count": 6,
   "id": "041035b6",
   "metadata": {},
   "outputs": [],
   "source": [
    "list_city = ['Bern','Zurich','Lausanne','Geneva','Basel']"
   ]
  },
  {
   "cell_type": "code",
   "execution_count": 7,
   "id": "35b976ba",
   "metadata": {},
   "outputs": [
    {
     "name": "stdout",
     "output_type": "stream",
     "text": [
      "0        Bern\n",
      "1      Zurich\n",
      "2    Lausanne\n",
      "3      Geneva\n",
      "4       Basel\n",
      "dtype: object\n"
     ]
    }
   ],
   "source": [
    "series_city = pd.Series(list_city)\n",
    "\n",
    "print(series_city)"
   ]
  },
  {
   "cell_type": "code",
   "execution_count": 8,
   "id": "fd729597",
   "metadata": {},
   "outputs": [
    {
     "name": "stdout",
     "output_type": "stream",
     "text": [
      "0     1\n",
      "1     3\n",
      "2     5\n",
      "3     7\n",
      "4     9\n",
      "5    11\n",
      "dtype: int64\n"
     ]
    }
   ],
   "source": [
    "list_number = [1,3,5,7,9,11]\n",
    "series_number = pd.Series(list_number)\n",
    "\n",
    "print(series_number)"
   ]
  },
  {
   "cell_type": "code",
   "execution_count": 9,
   "id": "945993a9",
   "metadata": {},
   "outputs": [
    {
     "data": {
      "text/plain": [
       "pandas.core.series.Series"
      ]
     },
     "execution_count": 9,
     "metadata": {},
     "output_type": "execute_result"
    }
   ],
   "source": [
    "type(series_city)"
   ]
  },
  {
   "cell_type": "markdown",
   "id": "c922f029",
   "metadata": {},
   "source": [
    "* Series pada pandas terdiri dari beberapa komponen.\n",
    "* Angka di sebelah kiri merupakan index dari suatu nilai.\n",
    "* Komponen di sebelah kanan adalah nilai dari Series.\n",
    "* Di bagian bawah terdapat informasi tipe data yang digunakan."
   ]
  },
  {
   "cell_type": "markdown",
   "id": "dae76834",
   "metadata": {},
   "source": [
    "##### DataFrame\n",
    "\n",
    "* DataFrame adalah struktur data yang merepresentasikan data tabular.\n",
    "* Konsepnya sama dengan spreadsheet pada Microsoft Excel.\n",
    "* Dapat memiliki tipe elemen yang berbeda di dalamnya.\n",
    "* Bentuk paling sederhana dari `DataFrame` dapat dibuat dari `dictionary` "
   ]
  },
  {
   "cell_type": "code",
   "execution_count": 10,
   "id": "96c9e12f",
   "metadata": {},
   "outputs": [],
   "source": [
    "data = {'state':['Ohio','Nevada','Washington','Texas','Texas','California'],\n",
    "        'year':[2000,2001,2002,2004,2006,2003],\n",
    "        'pop':[1.5,1.7,1.6,1.8,2.1,2.5]}"
   ]
  },
  {
   "cell_type": "code",
   "execution_count": 11,
   "metadata": {},
   "outputs": [
    {
     "data": {
      "text/plain": [
       "dict"
      ]
     },
     "execution_count": 11,
     "metadata": {},
     "output_type": "execute_result"
    }
   ],
   "source": [
    "type(data)"
   ]
  },
  {
   "cell_type": "code",
   "execution_count": 12,
   "id": "e8b397f6",
   "metadata": {},
   "outputs": [
    {
     "name": "stdout",
     "output_type": "stream",
     "text": [
      "        state  year  pop\n",
      "0        Ohio  2000  1.5\n",
      "1      Nevada  2001  1.7\n",
      "2  Washington  2002  1.6\n",
      "3       Texas  2004  1.8\n",
      "4       Texas  2006  2.1\n",
      "5  California  2003  2.5\n"
     ]
    }
   ],
   "source": [
    "df_data = pd.DataFrame(data)\n",
    "\n",
    "print(df_data)"
   ]
  },
  {
   "cell_type": "code",
   "execution_count": 13,
   "id": "a11d5f3a",
   "metadata": {},
   "outputs": [
    {
     "data": {
      "text/html": [
       "<div>\n",
       "<style scoped>\n",
       "    .dataframe tbody tr th:only-of-type {\n",
       "        vertical-align: middle;\n",
       "    }\n",
       "\n",
       "    .dataframe tbody tr th {\n",
       "        vertical-align: top;\n",
       "    }\n",
       "\n",
       "    .dataframe thead th {\n",
       "        text-align: right;\n",
       "    }\n",
       "</style>\n",
       "<table border=\"1\" class=\"dataframe\">\n",
       "  <thead>\n",
       "    <tr style=\"text-align: right;\">\n",
       "      <th></th>\n",
       "      <th>state</th>\n",
       "      <th>year</th>\n",
       "      <th>pop</th>\n",
       "    </tr>\n",
       "  </thead>\n",
       "  <tbody>\n",
       "    <tr>\n",
       "      <th>0</th>\n",
       "      <td>Ohio</td>\n",
       "      <td>2000</td>\n",
       "      <td>1.5</td>\n",
       "    </tr>\n",
       "    <tr>\n",
       "      <th>1</th>\n",
       "      <td>Nevada</td>\n",
       "      <td>2001</td>\n",
       "      <td>1.7</td>\n",
       "    </tr>\n",
       "    <tr>\n",
       "      <th>2</th>\n",
       "      <td>Washington</td>\n",
       "      <td>2002</td>\n",
       "      <td>1.6</td>\n",
       "    </tr>\n",
       "    <tr>\n",
       "      <th>3</th>\n",
       "      <td>Texas</td>\n",
       "      <td>2004</td>\n",
       "      <td>1.8</td>\n",
       "    </tr>\n",
       "    <tr>\n",
       "      <th>4</th>\n",
       "      <td>Texas</td>\n",
       "      <td>2006</td>\n",
       "      <td>2.1</td>\n",
       "    </tr>\n",
       "    <tr>\n",
       "      <th>5</th>\n",
       "      <td>California</td>\n",
       "      <td>2003</td>\n",
       "      <td>2.5</td>\n",
       "    </tr>\n",
       "  </tbody>\n",
       "</table>\n",
       "</div>"
      ],
      "text/plain": [
       "        state  year  pop\n",
       "0        Ohio  2000  1.5\n",
       "1      Nevada  2001  1.7\n",
       "2  Washington  2002  1.6\n",
       "3       Texas  2004  1.8\n",
       "4       Texas  2006  2.1\n",
       "5  California  2003  2.5"
      ]
     },
     "execution_count": 13,
     "metadata": {},
     "output_type": "execute_result"
    }
   ],
   "source": [
    "df_data"
   ]
  },
  {
   "cell_type": "code",
   "execution_count": 14,
   "id": "f7e38f64",
   "metadata": {},
   "outputs": [
    {
     "data": {
      "text/plain": [
       "pandas.core.frame.DataFrame"
      ]
     },
     "execution_count": 14,
     "metadata": {},
     "output_type": "execute_result"
    }
   ],
   "source": [
    "type(df_data)"
   ]
  },
  {
   "cell_type": "markdown",
   "id": "20815f22",
   "metadata": {},
   "source": [
    "**Cara lain mendefinisikan pandas:**"
   ]
  },
  {
   "cell_type": "code",
   "execution_count": 15,
   "id": "89639fd7",
   "metadata": {},
   "outputs": [],
   "source": [
    "data = [\n",
    "    {'state': 'Ohio', 'year': 2000, 'pop': 1.5},\n",
    "    {'state': 'Nevada', 'year': 2001, 'pop': 1.7},\n",
    "    {'state': 'Washington', 'year': 2002, 'pop': 1.8},\n",
    "    {'state': 'Texas', 'year': 2004, 'pop': 1.8},\n",
    "    {'state': 'Texas', 'year': 2006, 'pop': 2.1},\n",
    "    {'state': 'California', 'year': 2003, 'pop': 2.5}\n",
    "]"
   ]
  },
  {
   "cell_type": "code",
   "execution_count": 16,
   "metadata": {},
   "outputs": [
    {
     "data": {
      "text/plain": [
       "list"
      ]
     },
     "execution_count": 16,
     "metadata": {},
     "output_type": "execute_result"
    }
   ],
   "source": [
    "type(data)"
   ]
  },
  {
   "cell_type": "code",
   "execution_count": 17,
   "id": "c1f3aaf4",
   "metadata": {},
   "outputs": [
    {
     "name": "stdout",
     "output_type": "stream",
     "text": [
      "        state  year  pop\n",
      "0        Ohio  2000  1.5\n",
      "1      Nevada  2001  1.7\n",
      "2  Washington  2002  1.8\n",
      "3       Texas  2004  1.8\n",
      "4       Texas  2006  2.1\n",
      "5  California  2003  2.5\n"
     ]
    }
   ],
   "source": [
    "df_data = pd.DataFrame(data)\n",
    "\n",
    "print(df_data)"
   ]
  },
  {
   "cell_type": "code",
   "execution_count": 18,
   "id": "2ef8d241",
   "metadata": {},
   "outputs": [
    {
     "data": {
      "text/html": [
       "<div>\n",
       "<style scoped>\n",
       "    .dataframe tbody tr th:only-of-type {\n",
       "        vertical-align: middle;\n",
       "    }\n",
       "\n",
       "    .dataframe tbody tr th {\n",
       "        vertical-align: top;\n",
       "    }\n",
       "\n",
       "    .dataframe thead th {\n",
       "        text-align: right;\n",
       "    }\n",
       "</style>\n",
       "<table border=\"1\" class=\"dataframe\">\n",
       "  <thead>\n",
       "    <tr style=\"text-align: right;\">\n",
       "      <th></th>\n",
       "      <th>state</th>\n",
       "      <th>year</th>\n",
       "      <th>pop</th>\n",
       "    </tr>\n",
       "  </thead>\n",
       "  <tbody>\n",
       "    <tr>\n",
       "      <th>0</th>\n",
       "      <td>Ohio</td>\n",
       "      <td>2000</td>\n",
       "      <td>1.5</td>\n",
       "    </tr>\n",
       "    <tr>\n",
       "      <th>1</th>\n",
       "      <td>Nevada</td>\n",
       "      <td>2001</td>\n",
       "      <td>1.7</td>\n",
       "    </tr>\n",
       "    <tr>\n",
       "      <th>2</th>\n",
       "      <td>Washington</td>\n",
       "      <td>2002</td>\n",
       "      <td>1.8</td>\n",
       "    </tr>\n",
       "    <tr>\n",
       "      <th>3</th>\n",
       "      <td>Texas</td>\n",
       "      <td>2004</td>\n",
       "      <td>1.8</td>\n",
       "    </tr>\n",
       "    <tr>\n",
       "      <th>4</th>\n",
       "      <td>Texas</td>\n",
       "      <td>2006</td>\n",
       "      <td>2.1</td>\n",
       "    </tr>\n",
       "    <tr>\n",
       "      <th>5</th>\n",
       "      <td>California</td>\n",
       "      <td>2003</td>\n",
       "      <td>2.5</td>\n",
       "    </tr>\n",
       "  </tbody>\n",
       "</table>\n",
       "</div>"
      ],
      "text/plain": [
       "        state  year  pop\n",
       "0        Ohio  2000  1.5\n",
       "1      Nevada  2001  1.7\n",
       "2  Washington  2002  1.8\n",
       "3       Texas  2004  1.8\n",
       "4       Texas  2006  2.1\n",
       "5  California  2003  2.5"
      ]
     },
     "execution_count": 18,
     "metadata": {},
     "output_type": "execute_result"
    }
   ],
   "source": [
    "df_data"
   ]
  },
  {
   "cell_type": "markdown",
   "id": "2f1fc627",
   "metadata": {},
   "source": [
    "* DataFrame terdiri dari beberapa komponen.\n",
    "* Kolom paling kiri merupakan indeks dari data.\n",
    "* Di bagian atas merupakan nama dari tiap-tiap kolom.\n",
    "* Di bagian tengah adalah data yang dimasukkan."
   ]
  },
  {
   "cell_type": "markdown",
   "id": "fdd4e8c5",
   "metadata": {},
   "source": [
    "### Note\n",
    "\n",
    "* Masih banyak detil yang dapat dipelajari dari kedua objek tersebut.\n",
    "* Detil lebih lanjut akan dipelajari pada kelas Data Wrangling"
   ]
  }
 ],
 "metadata": {
  "kernelspec": {
   "display_name": "Python 3 (ipykernel)",
   "language": "python",
   "name": "python3"
  },
  "language_info": {
   "codemirror_mode": {
    "name": "ipython",
    "version": 3
   },
   "file_extension": ".py",
   "mimetype": "text/x-python",
   "name": "python",
   "nbconvert_exporter": "python",
   "pygments_lexer": "ipython3",
   "version": "3.10.12"
  }
 },
 "nbformat": 4,
 "nbformat_minor": 5
}
