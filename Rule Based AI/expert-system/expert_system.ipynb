{
 "cells": [
  {
   "cell_type": "markdown",
   "metadata": {},
   "source": [
    "### **Sistem Pakar**\n",
    "\n",
    "Sistem pakar (expert system) adalah sistem yang berusaha mengapdosi pengetahuan manusia ke komputer, agar komputer dapat menyelesaikan masalah seperti yang biasa dilakukan oleh para ahli. Sistem pakar yang baik dirancang agar dapat menyelesaikan suatu permasalahan tertentu dengan meniru kerja dari para ahli.\n",
    "\n",
    "Jadi, sistem pakar merupakan kepakaran ditransfer dari seorang pakar (atau sumber kepakaran yang lain) ke komputer, pengetahuan yang ada disimpan dalam komputer, dan pengguna dapat berkonsultasi pada komputer itu untuk suatu nasehat, lalu komputer dapat mengambil inferensi (menyimpulkan, mendeduksi, dll.) seperti layaknya seorang pakar, kemudian menjelaskannya ke pengguna tersebut, bila perlu dengan alasan-alasannya.\n",
    "\n",
    "Sumber: [https://binus.ac.id/malang/2022/03/sistem-pakar-dalam-ilmu-komputer/](https://binus.ac.id/malang/2022/03/sistem-pakar-dalam-ilmu-komputer/)"
   ]
  },
  {
   "cell_type": "markdown",
   "metadata": {},
   "source": [
    "**Forward Chaining** adalah pencocokan fakta atau pernyataan dimulai dari bagian sebelah kiri (IF dulu). Dengan kata lain, penalaran dimulai dari fakta terlebih dahulu untuk menguji kebenaran hipotesis.\n",
    "\n",
    "Sumber: \n",
    "+ [https://ejournal.undiksha.ac.id/index.php/janapati/article/view/9926](https://ejournal.undiksha.ac.id/index.php/janapati/article/view/9926)\n",
    "+ [https://youtu.be/fiuyhHXOavM?si=zno1Vvxa6WjKb_qN](https://youtu.be/fiuyhHXOavM?si=zno1Vvxa6WjKb_qN)"
   ]
  },
  {
   "cell_type": "markdown",
   "metadata": {},
   "source": [
    "### Case Zookeeper\n",
    "\n",
    "Mengamati:\n",
    "+ Macan Tutul\n",
    "+ Singa Jantan\n",
    "+ Orangutan\n",
    "+ Jerapah\n",
    "+ Panda\n",
    "+ Beruang Coklat"
   ]
  },
  {
   "cell_type": "code",
   "execution_count": 5,
   "metadata": {},
   "outputs": [
    {
     "name": "stdout",
     "output_type": "stream",
     "text": [
      "Itu adalah SINGA JANTAN\n"
     ]
    }
   ],
   "source": [
    "# Input\n",
    "bertaring = False\n",
    "warna_bulu_berpola = False\n",
    "kepala_berbulu_lebat = True\n",
    "berbulu_lebat = False\n",
    "berbulu_tipis = False\n",
    "makan_daging = False\n",
    "makan_buah = False\n",
    "berleher_panjang = False\n",
    "\n",
    "if bertaring and makan_daging or kepala_berbulu_lebat:\n",
    "    print(\"Itu adalah SINGA JANTAN\")\n",
    "elif bertaring and makan_daging and warna_bulu_berpola:\n",
    "    print(\"Itu adalah MACAN TUTUL\")\n",
    "elif makan_buah and berbulu_lebat:\n",
    "    print(\"Itu adalah ORANGUTAN\")\n",
    "elif makan_buah and berleher_panjang and berbulu_tipis and warna_bulu_berpola:\n",
    "    print(\"Itu adalah JERAPAH\")\n",
    "elif berbulu_lebat and bertaring and warna_bulu_berpola and makan_buah:\n",
    "    print(\"Itu adalah PANDA\")\n",
    "elif berbulu_lebat and bertaring and warna_bulu_berpola and makan_buah:\n",
    "    print(\"Itu adalah BERUANG\")\n",
    "else:\n",
    "    print(\"Tidak ditemukan!\")"
   ]
  },
  {
   "cell_type": "markdown",
   "metadata": {},
   "source": [
    "**Backward Chaining** adalah pencocokan fakta atau pernyataan dimulai dari bagian sebelah kanan (THEN dulu). Dengan kata lain, penalaran dimulai dari hipotesis terlebih dahulu, dan untuk menguji\n",
    "kebenaran hipotesis tersebut harus dicari fakta-fakta yang ada dalam basis pengetahuan.\n",
    "\n",
    "Sumber: \n",
    "+ [https://ejournal.undiksha.ac.id/index.php/janapati/article/view/9926](https://ejournal.undiksha.ac.id/index.php/janapati/article/view/9926)\n",
    "+ [https://youtu.be/qyoAkdo-hJg?si=UHgPJvFrT3byQRn6](https://youtu.be/qyoAkdo-hJg?si=UHgPJvFrT3byQRn6)"
   ]
  },
  {
   "cell_type": "code",
   "execution_count": 7,
   "metadata": {},
   "outputs": [
    {
     "name": "stdout",
     "output_type": "stream",
     "text": [
      "Benar.. Itu adalah SINGA JANTAN\n"
     ]
    }
   ],
   "source": [
    "singa_jantan = True\n",
    "macan_tutul = False\n",
    "orangutan = False\n",
    "jerapah = False\n",
    "panda = False\n",
    "beruang = False\n",
    "\n",
    "bertaring = False\n",
    "warna_bulu_berpola = False\n",
    "kepala_berbulu_lebat = True\n",
    "berbulu_lebat = False\n",
    "berbulu_tipis = False\n",
    "makan_daging = False\n",
    "makan_buah = False\n",
    "berleher_panjang = False\n",
    "\n",
    "if bertaring and makan_daging or kepala_berbulu_lebat and singa_jantan:\n",
    "    print(\"Benar.. Itu adalah SINGA JANTAN\")\n",
    "elif bertaring and makan_daging and warna_bulu_berpola and macan_tutul:\n",
    "    print(\"Benar.. Itu adalah MACAN TUTUL\")\n",
    "elif makan_buah and berbulu_lebat and orangutan:\n",
    "    print(\"Benar.. Itu adalah ORANGUTAN\")\n",
    "elif makan_buah and berleher_panjang and berbulu_tipis and warna_bulu_berpola and jerapah:\n",
    "    print(\"Benar.. Itu adalah JERAPAH\")\n",
    "elif berbulu_lebat and bertaring and warna_bulu_berpola and makan_buah and panda:\n",
    "    print(\"Benar.. Itu adalah PANDA\")\n",
    "elif berbulu_lebat and bertaring and warna_bulu_berpola and makan_buah and beruang:\n",
    "    print(\"Benar.. Itu adalah BERUANG\")\n",
    "else:\n",
    "    print(\"Tidak ditemukan!\")"
   ]
  },
  {
   "cell_type": "markdown",
   "metadata": {},
   "source": [
    "### Tugas\n",
    "\n",
    "Cari kasus dan buat program forward chaining dan backward chaining, lalu simpan dalam notebook dengan nama `expert_system_case.ipynb` dan simpan dalam folder `expert-system`. Kemudian konversi menjadi sebuah file python dengan nama masing-masing `forward_chain_case.py` dan `backward_chain.py` lalu disimpan dalam folder `expert-system` dan jangan lupa push ke GitHub!"
   ]
  }
 ],
 "metadata": {
  "kernelspec": {
   "display_name": ".py-ml-ds-cheatsheet-venv",
   "language": "python",
   "name": "python3"
  },
  "language_info": {
   "codemirror_mode": {
    "name": "ipython",
    "version": 3
   },
   "file_extension": ".py",
   "mimetype": "text/x-python",
   "name": "python",
   "nbconvert_exporter": "python",
   "pygments_lexer": "ipython3",
   "version": "3.10.12"
  }
 },
 "nbformat": 4,
 "nbformat_minor": 2
}
