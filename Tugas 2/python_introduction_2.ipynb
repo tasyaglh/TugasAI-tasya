{
 "cells": [
  {
   "cell_type": "markdown",
   "id": "099ad5dc",
   "metadata": {},
   "source": [
    "# **Logic**"
   ]
  },
  {
   "cell_type": "code",
   "execution_count": 1,
   "id": "4fd9e88d",
   "metadata": {},
   "outputs": [],
   "source": [
    "nama = 'Sasuke'\n",
    "umur = 10\n",
    "jomblo = False"
   ]
  },
  {
   "cell_type": "markdown",
   "id": "38eda3f2",
   "metadata": {},
   "source": [
    "#### If"
   ]
  },
  {
   "cell_type": "code",
   "execution_count": 2,
   "id": "4a2d8036",
   "metadata": {},
   "outputs": [],
   "source": [
    "if jomblo == True:\n",
    "    print(\"Sasuke jomblo\")"
   ]
  },
  {
   "cell_type": "code",
   "execution_count": 3,
   "metadata": {},
   "outputs": [],
   "source": [
    "if jomblo:\n",
    "    print(\"Sasuke jomblo\")"
   ]
  },
  {
   "cell_type": "code",
   "execution_count": 4,
   "metadata": {},
   "outputs": [
    {
     "name": "stdout",
     "output_type": "stream",
     "text": [
      "Sasuke jomblo\n"
     ]
    }
   ],
   "source": [
    "if not jomblo:\n",
    "    print(\"Sasuke jomblo\")"
   ]
  },
  {
   "cell_type": "markdown",
   "id": "57924ea1",
   "metadata": {},
   "source": [
    "#### If Else"
   ]
  },
  {
   "cell_type": "code",
   "execution_count": 5,
   "id": "53521b58",
   "metadata": {},
   "outputs": [
    {
     "name": "stdout",
     "output_type": "stream",
     "text": [
      "Sasuke tidak jomblo\n"
     ]
    }
   ],
   "source": [
    "if jomblo == True:\n",
    "    print(\"Sasuke jomblo\")\n",
    "else:\n",
    "    print(\"Sasuke tidak jomblo\")"
   ]
  },
  {
   "cell_type": "code",
   "execution_count": 6,
   "metadata": {},
   "outputs": [
    {
     "name": "stdout",
     "output_type": "stream",
     "text": [
      "Sasuke tidak jomblo\n"
     ]
    }
   ],
   "source": [
    "if jomblo:\n",
    "    print(\"Sasuke jomblo\")\n",
    "else:\n",
    "    print(\"Sasuke tidak jomblo\")"
   ]
  },
  {
   "cell_type": "code",
   "execution_count": 7,
   "metadata": {},
   "outputs": [
    {
     "name": "stdout",
     "output_type": "stream",
     "text": [
      "Sasuke jomblo\n"
     ]
    }
   ],
   "source": [
    "if not jomblo:\n",
    "    print(\"Sasuke jomblo\")\n",
    "else:\n",
    "    print(\"Sasuke tidak jomblo\")"
   ]
  },
  {
   "cell_type": "markdown",
   "id": "6116873d",
   "metadata": {},
   "source": [
    "#### And\n",
    "\n",
    "+ 1 & 1 = True\n",
    "+ 1 & 0 = False\n",
    "+ 0 & 1 = False\n",
    "+ 0 & 0 = False"
   ]
  },
  {
   "cell_type": "code",
   "execution_count": 8,
   "id": "60bc4d9c",
   "metadata": {},
   "outputs": [
    {
     "name": "stdout",
     "output_type": "stream",
     "text": [
      "Sasuke Kecil\n"
     ]
    }
   ],
   "source": [
    "if umur > 17:\n",
    "    print(\"Sasuke Dewasa\")\n",
    "elif umur > 14 and umur < 17:\n",
    "    print(\"Sasuke Remaja\")\n",
    "else:\n",
    "    print(\"Sasuke Kecil\")"
   ]
  },
  {
   "cell_type": "markdown",
   "id": "a5aeb5ed",
   "metadata": {},
   "source": [
    "#### Or\n",
    "\n",
    "+ 1 & 1 = True\n",
    "+ 1 & 0 = True\n",
    "+ 0 & 1 = True\n",
    "+ 0 & 0 = False\n"
   ]
  },
  {
   "cell_type": "code",
   "execution_count": 9,
   "id": "be06a4a0",
   "metadata": {},
   "outputs": [
    {
     "name": "stdout",
     "output_type": "stream",
     "text": [
      "Sasuke Remaja\n"
     ]
    }
   ],
   "source": [
    "if umur > 17:\n",
    "    print(\"Sasuke Dewasa\")\n",
    "elif umur > 14 or umur < 17:\n",
    "    print(\"Sasuke Remaja\")\n",
    "else:\n",
    "    print(\"Sasuke Kecil\")"
   ]
  },
  {
   "cell_type": "code",
   "execution_count": 10,
   "id": "4e73d98c",
   "metadata": {},
   "outputs": [
    {
     "name": "stdout",
     "output_type": "stream",
     "text": [
      "False\n"
     ]
    }
   ],
   "source": [
    "buah = [\"nanas\", \"apel\", \"pepaya\", \"manggis\"]\n",
    "\n",
    "if buah[1] == \"manggis\":\n",
    "    print(\"True\")\n",
    "else:\n",
    "    print(\"False\")"
   ]
  },
  {
   "cell_type": "code",
   "execution_count": 11,
   "metadata": {},
   "outputs": [
    {
     "name": "stdout",
     "output_type": "stream",
     "text": [
      "True\n"
     ]
    }
   ],
   "source": [
    "buah = [\"nanas\", \"apel\", \"pepaya\", \"manggis\"]\n",
    "\n",
    "if buah[1] == \"apel\" and buah[3] == \"manggis\":\n",
    "    print(\"True\")\n",
    "else:\n",
    "    print(\"False\")"
   ]
  },
  {
   "cell_type": "code",
   "execution_count": 12,
   "metadata": {},
   "outputs": [
    {
     "name": "stdout",
     "output_type": "stream",
     "text": [
      "False\n"
     ]
    }
   ],
   "source": [
    "buah = [\"nanas\", \"apel\", \"pepaya\", \"manggis\"]\n",
    "\n",
    "if buah[1] == \"apel\" and not buah[3] == \"manggis\":\n",
    "    print(\"True\")\n",
    "else:\n",
    "    print(\"False\")"
   ]
  },
  {
   "cell_type": "code",
   "execution_count": 13,
   "metadata": {},
   "outputs": [
    {
     "name": "stdout",
     "output_type": "stream",
     "text": [
      "True\n"
     ]
    }
   ],
   "source": [
    "buah = [\"nanas\", \"apel\", \"pepaya\", \"manggis\"]\n",
    "\n",
    "if buah[1] == \"apel\" and not buah[2] == \"manggis\":\n",
    "    print(\"True\")\n",
    "else:\n",
    "    print(\"False\")"
   ]
  },
  {
   "cell_type": "code",
   "execution_count": 14,
   "metadata": {},
   "outputs": [
    {
     "name": "stdout",
     "output_type": "stream",
     "text": [
      "True\n"
     ]
    }
   ],
   "source": [
    "buah = [\"nanas\", \"apel\", \"pepaya\", \"manggis\"]\n",
    "\n",
    "if buah[1] == \"apel\" or buah[2] == \"manggis\":\n",
    "    print(\"True\")\n",
    "else:\n",
    "    print(\"False\")"
   ]
  },
  {
   "cell_type": "markdown",
   "metadata": {},
   "source": [
    "### Case 11\n",
    "\n",
    "Buat sebuah program diskon dalam jupyter-notebook, jika kita order makanan dari Aplikasi dengan pesanan melebihi dari 100.000 maka diskonnya adalah 50% dengan maksimum diskon 50.000. Jika pesanan kurang dari sama dengan 75.000 maka diskonnya adalah 30% dengan maksimum diskon 30.000, Jika pesanan kurang dari 30000 maka tidak ada diskon! Lanjutkan dengan konversi program tersebut menjadi sebuah program python atau `*.py` dengan nama `diskon.py` yang dapat menerima input dari terminal!\n",
    "\n",
    "Note:\n",
    "+ Baca input dari console atau terminal [https://www.geeksforgeeks.org/taking-input-from-console-in-python/](https://www.geeksforgeeks.org/taking-input-from-console-in-python/)"
   ]
  },
  {
   "cell_type": "code",
   "execution_count": null,
   "metadata": {},
   "outputs": [],
   "source": []
  },
  {
   "cell_type": "markdown",
   "id": "3674356c",
   "metadata": {},
   "source": [
    "# **Loop atau Perulangan**"
   ]
  },
  {
   "cell_type": "code",
   "execution_count": 15,
   "id": "2706fb8d",
   "metadata": {},
   "outputs": [],
   "source": [
    "fruits = [\"nanas\", \"pisang\", \"semangka\", \"apple\"]"
   ]
  },
  {
   "cell_type": "markdown",
   "id": "a64d25c3",
   "metadata": {},
   "source": [
    "#### For"
   ]
  },
  {
   "cell_type": "code",
   "execution_count": 16,
   "id": "09680cfc",
   "metadata": {},
   "outputs": [
    {
     "name": "stdout",
     "output_type": "stream",
     "text": [
      "nanas\n",
      "pisang\n",
      "semangka\n",
      "apple\n"
     ]
    }
   ],
   "source": [
    "for fruit in fruits:\n",
    "    print(fruit)"
   ]
  },
  {
   "cell_type": "code",
   "execution_count": 17,
   "id": "e0405518",
   "metadata": {},
   "outputs": [
    {
     "name": "stdout",
     "output_type": "stream",
     "text": [
      "0\n",
      "1\n",
      "2\n",
      "3\n",
      "4\n",
      "5\n",
      "6\n",
      "7\n",
      "8\n",
      "9\n"
     ]
    }
   ],
   "source": [
    "for i in range(10):\n",
    "    print(i)"
   ]
  },
  {
   "cell_type": "code",
   "execution_count": 18,
   "id": "80460fce",
   "metadata": {},
   "outputs": [
    {
     "name": "stdout",
     "output_type": "stream",
     "text": [
      "nanas buah ke 0\n",
      "pisang buah ke 1\n",
      "semangka buah ke 2\n",
      "apple buah ke 3\n"
     ]
    }
   ],
   "source": [
    "for i, fruit in enumerate(fruits):\n",
    "    print(f'{fruit} buah ke {i}')"
   ]
  },
  {
   "cell_type": "markdown",
   "id": "2ff5a9dd",
   "metadata": {},
   "source": [
    "#### While"
   ]
  },
  {
   "cell_type": "code",
   "execution_count": 19,
   "id": "a6df83ca",
   "metadata": {},
   "outputs": [
    {
     "name": "stdout",
     "output_type": "stream",
     "text": [
      "The count is: 0\n",
      "The count is: 1\n",
      "The count is: 2\n",
      "The count is: 3\n",
      "The count is: 4\n",
      "The count is: 5\n",
      "The count is: 6\n",
      "The count is: 7\n",
      "The count is: 8\n",
      "\n",
      "Good bye!\n"
     ]
    }
   ],
   "source": [
    "count = 0\n",
    "\n",
    "while (count < 9):\n",
    "   print('The count is:', count)\n",
    "   count = count + 1\n",
    "\n",
    "print(\"\\nGood bye!\")"
   ]
  },
  {
   "cell_type": "markdown",
   "id": "7684d3d8",
   "metadata": {},
   "source": [
    "### Break"
   ]
  },
  {
   "cell_type": "code",
   "execution_count": 20,
   "id": "21a38cd9",
   "metadata": {},
   "outputs": [
    {
     "name": "stdout",
     "output_type": "stream",
     "text": [
      "Current Letter : P\n",
      "Current Letter : y\n",
      "Current Letter : t\n",
      "Current Letter : h\n"
     ]
    }
   ],
   "source": [
    "for letter in 'Python':\n",
    "    print(\"Current Letter :\", letter)\n",
    "    \n",
    "    if letter == 'h':\n",
    "        break"
   ]
  },
  {
   "cell_type": "code",
   "execution_count": 21,
   "id": "fffdba52",
   "metadata": {},
   "outputs": [
    {
     "name": "stdout",
     "output_type": "stream",
     "text": [
      "Current variable value : 9\n",
      "Current variable value : 8\n",
      "Current variable value : 7\n",
      "Current variable value : 6\n",
      "Current variable value : 5\n"
     ]
    }
   ],
   "source": [
    "var = 10\n",
    "\n",
    "while var > 0:\n",
    "    var = var - 1\n",
    "    print(\"Current variable value :\", var)\n",
    "    \n",
    "    if var == 5:\n",
    "        break"
   ]
  },
  {
   "cell_type": "markdown",
   "id": "9c38935b",
   "metadata": {},
   "source": [
    "### Pass"
   ]
  },
  {
   "cell_type": "code",
   "execution_count": 22,
   "id": "d6b17990",
   "metadata": {},
   "outputs": [
    {
     "name": "stdout",
     "output_type": "stream",
     "text": [
      "Current Letter : P\n",
      "Current Letter : y\n",
      "Current Letter : t\n",
      "This is pass block\n",
      "Current Letter : h\n",
      "Current Letter : o\n",
      "Current Letter : n\n"
     ]
    }
   ],
   "source": [
    "for letter in 'Python':\n",
    "    if letter == 'h':\n",
    "        pass\n",
    "        print('This is pass block')\n",
    "        \n",
    "    print('Current Letter :', letter)"
   ]
  },
  {
   "cell_type": "markdown",
   "metadata": {},
   "source": [
    "### Case 12\n",
    "\n",
    "Buat program dengan masukan sebuah integer, misal `5` maka program tersebut mencetak pola sebagai berikut:\n",
    "\n",
    "```\n",
    "*\n",
    "**\n",
    "***\n",
    "****\n",
    "*****\n",
    "****\n",
    "***\n",
    "**\n",
    "*\n",
    "```\n",
    "\n",
    "Buat program tersebut di dalam jupyter-notebook! konversi juga menjadi sebuah file python dengan nama `star-triangle.py` yang dapat menerima masukan dari terminal!"
   ]
  },
  {
   "cell_type": "markdown",
   "id": "3a5caec0",
   "metadata": {},
   "source": [
    "# **Function**"
   ]
  },
  {
   "cell_type": "markdown",
   "id": "bfeb9ed5",
   "metadata": {},
   "source": [
    "### Void Function"
   ]
  },
  {
   "cell_type": "code",
   "execution_count": 23,
   "id": "d1deee3e",
   "metadata": {},
   "outputs": [],
   "source": [
    "def print_coba():\n",
    "    a = 10\n",
    "    b = 12\n",
    "    print(a+b)"
   ]
  },
  {
   "cell_type": "code",
   "execution_count": 24,
   "metadata": {},
   "outputs": [
    {
     "name": "stdout",
     "output_type": "stream",
     "text": [
      "22\n"
     ]
    }
   ],
   "source": [
    "print_coba()"
   ]
  },
  {
   "cell_type": "code",
   "execution_count": 25,
   "metadata": {},
   "outputs": [
    {
     "name": "stdout",
     "output_type": "stream",
     "text": [
      "22\n"
     ]
    },
    {
     "data": {
      "text/plain": [
       "NoneType"
      ]
     },
     "execution_count": 25,
     "metadata": {},
     "output_type": "execute_result"
    }
   ],
   "source": [
    "type(print_coba())"
   ]
  },
  {
   "cell_type": "markdown",
   "id": "bb9880dc",
   "metadata": {},
   "source": [
    "### Function with Return value"
   ]
  },
  {
   "cell_type": "code",
   "execution_count": 26,
   "metadata": {},
   "outputs": [],
   "source": [
    "def print_coba():\n",
    "    a = 10\n",
    "    b = 12\n",
    "    return (a+b)"
   ]
  },
  {
   "cell_type": "code",
   "execution_count": 27,
   "metadata": {},
   "outputs": [
    {
     "data": {
      "text/plain": [
       "22"
      ]
     },
     "execution_count": 27,
     "metadata": {},
     "output_type": "execute_result"
    }
   ],
   "source": [
    "print_coba()"
   ]
  },
  {
   "cell_type": "code",
   "execution_count": 28,
   "metadata": {},
   "outputs": [
    {
     "data": {
      "text/plain": [
       "int"
      ]
     },
     "execution_count": 28,
     "metadata": {},
     "output_type": "execute_result"
    }
   ],
   "source": [
    "type(print_coba())"
   ]
  },
  {
   "cell_type": "code",
   "execution_count": 29,
   "id": "fd3a765e",
   "metadata": {},
   "outputs": [],
   "source": [
    "def perkalian(a, b):\n",
    "    hasil_kali = a * b\n",
    "    return hasil_kali"
   ]
  },
  {
   "cell_type": "code",
   "execution_count": 30,
   "id": "af667636",
   "metadata": {},
   "outputs": [
    {
     "data": {
      "text/plain": [
       "20"
      ]
     },
     "execution_count": 30,
     "metadata": {},
     "output_type": "execute_result"
    }
   ],
   "source": [
    "perkalian(10, 2)"
   ]
  },
  {
   "cell_type": "code",
   "execution_count": 31,
   "metadata": {},
   "outputs": [
    {
     "data": {
      "text/plain": [
       "600"
      ]
     },
     "execution_count": 31,
     "metadata": {},
     "output_type": "execute_result"
    }
   ],
   "source": [
    "a = 20\n",
    "b = 30\n",
    "\n",
    "perkalian(a, b)"
   ]
  },
  {
   "cell_type": "code",
   "execution_count": 32,
   "id": "ce09a172",
   "metadata": {},
   "outputs": [],
   "source": [
    "def kali_bagi(a, b):\n",
    "    hasil_kali = a * b\n",
    "    hasil_bagi = a / b\n",
    "    return hasil_kali, hasil_bagi"
   ]
  },
  {
   "cell_type": "code",
   "execution_count": 33,
   "id": "8a2fa944",
   "metadata": {},
   "outputs": [
    {
     "name": "stdout",
     "output_type": "stream",
     "text": [
      "20\n",
      "5.0\n"
     ]
    }
   ],
   "source": [
    "hasil_kali, hasil_bagi = kali_bagi(10, 2)\n",
    "\n",
    "print(hasil_kali)\n",
    "print(hasil_bagi)"
   ]
  },
  {
   "cell_type": "code",
   "execution_count": 34,
   "id": "3ea4cd09",
   "metadata": {},
   "outputs": [],
   "source": [
    "f = 20\n",
    "\n",
    "def coba_var(a, b):\n",
    "    global c\n",
    "    c = 10\n",
    "    \n",
    "    d = a + b + c + f\n",
    "    \n",
    "    return d"
   ]
  },
  {
   "cell_type": "code",
   "execution_count": 35,
   "id": "6619ed44",
   "metadata": {},
   "outputs": [
    {
     "data": {
      "text/plain": [
       "60"
      ]
     },
     "execution_count": 35,
     "metadata": {},
     "output_type": "execute_result"
    }
   ],
   "source": [
    "coba_var(10, 20)"
   ]
  },
  {
   "cell_type": "code",
   "execution_count": 36,
   "id": "6f96bed9",
   "metadata": {},
   "outputs": [
    {
     "data": {
      "text/plain": [
       "10"
      ]
     },
     "execution_count": 36,
     "metadata": {},
     "output_type": "execute_result"
    }
   ],
   "source": [
    "c"
   ]
  },
  {
   "cell_type": "code",
   "execution_count": 37,
   "metadata": {},
   "outputs": [
    {
     "data": {
      "text/plain": [
       "20"
      ]
     },
     "execution_count": 37,
     "metadata": {},
     "output_type": "execute_result"
    }
   ],
   "source": [
    "f"
   ]
  },
  {
   "cell_type": "code",
   "execution_count": 38,
   "metadata": {},
   "outputs": [],
   "source": [
    "# d"
   ]
  },
  {
   "cell_type": "markdown",
   "metadata": {},
   "source": [
    "### Case 13\n",
    "\n",
    "Konversi **Case 3** menjadi 3 buah fungsi yaitu `luas`, `volume`, dan `keliling` dengan menggunakan jupyter-notebook! Lalu konversi juga menjadi sebuah file python dengan nama `balok.py` yang mana program tersebut dapat input dari terminal kemudian hasinyanya di print dan ditampilkan di terminal!"
   ]
  },
  {
   "cell_type": "code",
   "execution_count": null,
   "metadata": {},
   "outputs": [],
   "source": []
  }
 ],
 "metadata": {
  "kernelspec": {
   "display_name": "Python 3 (ipykernel)",
   "language": "python",
   "name": "python3"
  },
  "language_info": {
   "codemirror_mode": {
    "name": "ipython",
    "version": 3
   },
   "file_extension": ".py",
   "mimetype": "text/x-python",
   "name": "python",
   "nbconvert_exporter": "python",
   "pygments_lexer": "ipython3",
   "version": "3.10.12"
  }
 },
 "nbformat": 4,
 "nbformat_minor": 5
}
