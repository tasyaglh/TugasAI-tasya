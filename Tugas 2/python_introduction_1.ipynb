{
 "cells": [
  {
   "cell_type": "markdown",
   "id": "e0676309",
   "metadata": {},
   "source": [
    "# **Varible**"
   ]
  },
  {
   "cell_type": "code",
   "execution_count": 3,
   "id": "a073ce11",
   "metadata": {},
   "outputs": [],
   "source": [
    "nama = 'Sasuke'\n",
    "umur = '25'"
   ]
  },
  {
   "cell_type": "code",
   "execution_count": 2,
   "id": "25d8aea1",
   "metadata": {},
   "outputs": [
    {
     "data": {
      "text/plain": [
       "'Sasuke'"
      ]
     },
     "execution_count": 2,
     "metadata": {},
     "output_type": "execute_result"
    }
   ],
   "source": [
    "nama"
   ]
  },
  {
   "cell_type": "code",
   "execution_count": 3,
   "id": "fa93bdaa",
   "metadata": {},
   "outputs": [
    {
     "data": {
      "text/plain": [
       "str"
      ]
     },
     "execution_count": 3,
     "metadata": {},
     "output_type": "execute_result"
    }
   ],
   "source": [
    "type(nama)"
   ]
  },
  {
   "cell_type": "code",
   "execution_count": 4,
   "id": "63403257",
   "metadata": {},
   "outputs": [
    {
     "data": {
      "text/plain": [
       "'25'"
      ]
     },
     "execution_count": 4,
     "metadata": {},
     "output_type": "execute_result"
    }
   ],
   "source": [
    "umur"
   ]
  },
  {
   "cell_type": "code",
   "execution_count": 5,
   "id": "439f7ab5",
   "metadata": {},
   "outputs": [
    {
     "data": {
      "text/plain": [
       "str"
      ]
     },
     "execution_count": 5,
     "metadata": {},
     "output_type": "execute_result"
    }
   ],
   "source": [
    "type(umur)"
   ]
  },
  {
   "cell_type": "code",
   "execution_count": 6,
   "id": "4fa0f56b",
   "metadata": {},
   "outputs": [],
   "source": [
    "umur = 25"
   ]
  },
  {
   "cell_type": "code",
   "execution_count": 7,
   "id": "64294b80",
   "metadata": {},
   "outputs": [
    {
     "data": {
      "text/plain": [
       "int"
      ]
     },
     "execution_count": 7,
     "metadata": {},
     "output_type": "execute_result"
    }
   ],
   "source": [
    "type(umur)"
   ]
  },
  {
   "cell_type": "code",
   "execution_count": 8,
   "id": "749ad350",
   "metadata": {},
   "outputs": [],
   "source": [
    "jomblo = True"
   ]
  },
  {
   "cell_type": "code",
   "execution_count": 9,
   "id": "9406baee",
   "metadata": {},
   "outputs": [
    {
     "data": {
      "text/plain": [
       "bool"
      ]
     },
     "execution_count": 9,
     "metadata": {},
     "output_type": "execute_result"
    }
   ],
   "source": [
    "type(jomblo)"
   ]
  },
  {
   "cell_type": "markdown",
   "id": "6a4ea5af-97af-468a-9f9f-2e66c38903a3",
   "metadata": {},
   "source": [
    "### Case 1\n",
    "\n",
    "Buat sebuah variable `nama` dan `NRP` teman-teman lalu panggil di dalam jupyter-notebook!"
   ]
  },
  {
   "cell_type": "code",
   "execution_count": 4,
   "id": "40b1e2e4-2cac-4063-b1ea-50595e61cffc",
   "metadata": {},
   "outputs": [],
   "source": [
    "NamaMahasiswa = 'Muhammad Raihan De'\n",
    "NomorIndukMahasiswa = 201440004\n",
    "Kel = 'Instrumen_4A'"
   ]
  },
  {
   "cell_type": "code",
   "execution_count": 5,
   "id": "0398c6ca",
   "metadata": {},
   "outputs": [
    {
     "data": {
      "text/plain": [
       "'Muhammad Raihan De'"
      ]
     },
     "execution_count": 5,
     "metadata": {},
     "output_type": "execute_result"
    }
   ],
   "source": [
    "NamaMahasiswa"
   ]
  },
  {
   "cell_type": "code",
   "execution_count": 12,
   "id": "ece8c1b3",
   "metadata": {},
   "outputs": [
    {
     "data": {
      "text/plain": [
       "str"
      ]
     },
     "execution_count": 12,
     "metadata": {},
     "output_type": "execute_result"
    }
   ],
   "source": [
    "type(NamaMahasiswa)"
   ]
  },
  {
   "cell_type": "code",
   "execution_count": 6,
   "id": "3aeeae16",
   "metadata": {},
   "outputs": [
    {
     "data": {
      "text/plain": [
       "201440004"
      ]
     },
     "execution_count": 6,
     "metadata": {},
     "output_type": "execute_result"
    }
   ],
   "source": [
    "NomorIndukMahasiswa"
   ]
  },
  {
   "cell_type": "code",
   "execution_count": 14,
   "id": "2d75cc10",
   "metadata": {},
   "outputs": [
    {
     "data": {
      "text/plain": [
       "int"
      ]
     },
     "execution_count": 14,
     "metadata": {},
     "output_type": "execute_result"
    }
   ],
   "source": [
    "type(NomorIndukMahasiswa)"
   ]
  },
  {
   "cell_type": "code",
   "execution_count": 15,
   "id": "6f1cae9d",
   "metadata": {},
   "outputs": [
    {
     "data": {
      "text/plain": [
       "'Instrumen_4A'"
      ]
     },
     "execution_count": 15,
     "metadata": {},
     "output_type": "execute_result"
    }
   ],
   "source": [
    "Kel"
   ]
  },
  {
   "cell_type": "code",
   "execution_count": 16,
   "id": "4703adbe",
   "metadata": {},
   "outputs": [
    {
     "data": {
      "text/plain": [
       "str"
      ]
     },
     "execution_count": 16,
     "metadata": {},
     "output_type": "execute_result"
    }
   ],
   "source": [
    "type(Kel)"
   ]
  },
  {
   "cell_type": "code",
   "execution_count": 7,
   "id": "9b2df140",
   "metadata": {},
   "outputs": [
    {
     "name": "stdout",
     "output_type": "stream",
     "text": [
      "Nama : \"Muhammad Raihan De\"\n",
      "NIM  : 201440004\n",
      "Kelas: 'Instrumen_4A'\n"
     ]
    }
   ],
   "source": [
    "print(f'Nama : \"{NamaMahasiswa}\"')\n",
    "print(f\"NIM  : {NomorIndukMahasiswa}\")\n",
    "print(f\"Kelas: '{Kel}'\")"
   ]
  },
  {
   "cell_type": "markdown",
   "id": "cbecfa57-a246-4ca8-bba6-0e5bf37a3d7b",
   "metadata": {},
   "source": [
    "### Case 2\n",
    "\n",
    "Konversi program untuk memanggil variable `name` dan `NRP` yang sudah dibuat dalam jupyter-notebook ke file python atau `*.py` dengan nama file `variable.py`!"
   ]
  },
  {
   "cell_type": "markdown",
   "id": "5d3cf613",
   "metadata": {},
   "source": [
    "# **Arithmetic Operation**"
   ]
  },
  {
   "cell_type": "code",
   "execution_count": 18,
   "id": "92151140",
   "metadata": {},
   "outputs": [
    {
     "data": {
      "text/plain": [
       "15"
      ]
     },
     "execution_count": 18,
     "metadata": {},
     "output_type": "execute_result"
    }
   ],
   "source": [
    "a = 10\n",
    "b = 5\n",
    "\n",
    "a + b"
   ]
  },
  {
   "cell_type": "code",
   "execution_count": 19,
   "id": "cd0d2616",
   "metadata": {},
   "outputs": [],
   "source": [
    "c = a + b"
   ]
  },
  {
   "cell_type": "code",
   "execution_count": 20,
   "id": "d84579ff",
   "metadata": {},
   "outputs": [
    {
     "data": {
      "text/plain": [
       "15"
      ]
     },
     "execution_count": 20,
     "metadata": {},
     "output_type": "execute_result"
    }
   ],
   "source": [
    "c"
   ]
  },
  {
   "cell_type": "markdown",
   "id": "2b280d94",
   "metadata": {},
   "source": [
    "##Incerment"
   ]
  },
  {
   "cell_type": "code",
   "execution_count": 21,
   "id": "db7788dc",
   "metadata": {},
   "outputs": [],
   "source": [
    "c = c + 1"
   ]
  },
  {
   "cell_type": "code",
   "execution_count": 22,
   "id": "b39fec72",
   "metadata": {},
   "outputs": [
    {
     "data": {
      "text/plain": [
       "16"
      ]
     },
     "execution_count": 22,
     "metadata": {},
     "output_type": "execute_result"
    }
   ],
   "source": [
    "c"
   ]
  },
  {
   "cell_type": "code",
   "execution_count": 23,
   "id": "5c906f99",
   "metadata": {},
   "outputs": [],
   "source": [
    "c += 5"
   ]
  },
  {
   "cell_type": "code",
   "execution_count": 24,
   "id": "f47e5ee4",
   "metadata": {},
   "outputs": [
    {
     "data": {
      "text/plain": [
       "21"
      ]
     },
     "execution_count": 24,
     "metadata": {},
     "output_type": "execute_result"
    }
   ],
   "source": [
    "c"
   ]
  },
  {
   "cell_type": "markdown",
   "id": "b2c3486c",
   "metadata": {},
   "source": [
    "##Decerment"
   ]
  },
  {
   "cell_type": "code",
   "execution_count": 25,
   "id": "daf43743",
   "metadata": {},
   "outputs": [],
   "source": [
    "c -= 5"
   ]
  },
  {
   "cell_type": "code",
   "execution_count": 26,
   "id": "acd29756",
   "metadata": {},
   "outputs": [
    {
     "data": {
      "text/plain": [
       "16"
      ]
     },
     "execution_count": 26,
     "metadata": {},
     "output_type": "execute_result"
    }
   ],
   "source": [
    "c"
   ]
  },
  {
   "cell_type": "code",
   "execution_count": 27,
   "id": "35e7b7aa",
   "metadata": {},
   "outputs": [
    {
     "name": "stdout",
     "output_type": "stream",
     "text": [
      "800\n",
      "2.0\n",
      "60\n",
      "20\n",
      "0\n",
      "1600\n"
     ]
    }
   ],
   "source": [
    "e = 40\n",
    "f = 20\n",
    "\n",
    "print(e * f)\n",
    "print(e / f)\n",
    "print(e + f)\n",
    "print(e - f)\n",
    "print(e % f)\n",
    "print(e ** 2)"
   ]
  },
  {
   "cell_type": "code",
   "execution_count": 28,
   "id": "eee1139b",
   "metadata": {},
   "outputs": [
    {
     "data": {
      "text/plain": [
       "0"
      ]
     },
     "execution_count": 28,
     "metadata": {},
     "output_type": "execute_result"
    }
   ],
   "source": [
    "e % f ##Haasil Bagi"
   ]
  },
  {
   "cell_type": "markdown",
   "id": "5590811e-c47c-4381-8089-3a4d95d20728",
   "metadata": {},
   "source": [
    "### Case 3\n",
    "\n",
    "Konversi perhitungan **Luas** dan **Keliling** balok menjadi sebuah program yang berjalan di jupyter-notebook!\n",
    "\n",
    "![title](https://rumusrumus.com/wp-content/uploads/2015/05/jawaban-soal-matematika-balok.png)\n"
   ]
  },
  {
   "cell_type": "markdown",
   "id": "8dc1c0c1-5a91-4703-b819-d7134e3f90f3",
   "metadata": {},
   "source": [
    "##Luas"
   ]
  },
  {
   "cell_type": "code",
   "execution_count": 2,
   "id": "f5f2a908",
   "metadata": {},
   "outputs": [
    {
     "name": "stdout",
     "output_type": "stream",
     "text": [
      "Luas Balok = 15100 cm^2\n"
     ]
    }
   ],
   "source": [
    "Panjang = 500\n",
    "Lebar = 5\n",
    "Tinggi = 10\n",
    "\n",
    "Luas = 2 * ((Panjang*Lebar) + (Panjang*Tinggi) + (Lebar*Tinggi))\n",
    "print(f\"Luas Balok = {Luas} cm^2\")"
   ]
  },
  {
   "cell_type": "markdown",
   "id": "b7bbd88c",
   "metadata": {},
   "source": [
    "##Volume"
   ]
  },
  {
   "cell_type": "code",
   "execution_count": 30,
   "id": "420b523d",
   "metadata": {},
   "outputs": [
    {
     "name": "stdout",
     "output_type": "stream",
     "text": [
      "Volume Balok = 25000 cm^3\n"
     ]
    }
   ],
   "source": [
    "Volume = Panjang * Lebar * Tinggi\n",
    "print(f\"Volume Balok = {Volume} cm^3\")"
   ]
  },
  {
   "cell_type": "markdown",
   "id": "59185018",
   "metadata": {},
   "source": [
    "##Keliling"
   ]
  },
  {
   "cell_type": "code",
   "execution_count": 31,
   "id": "563dc5a9",
   "metadata": {},
   "outputs": [
    {
     "name": "stdout",
     "output_type": "stream",
     "text": [
      "Keliling Balok = 2060 cm\n"
     ]
    }
   ],
   "source": [
    "Keliling = 4 * (Panjang + Lebar + Tinggi)\n",
    "print(f\"Keliling Balok = {Keliling} cm\")"
   ]
  },
  {
   "cell_type": "markdown",
   "id": "7d91d419-8366-48a9-9a78-409224d708ab",
   "metadata": {},
   "source": [
    "### Case 4\n",
    "\n",
    "Konversi perhitungan luas dan keliling yang sebelumnya berjalan di jupyter-notebook menjadi sebuah file python atau `*.py` dengan nama masing-masing file `volume.py` dan `keliling.py`!"
   ]
  },
  {
   "cell_type": "markdown",
   "id": "90db810e-a772-41c9-a410-53fab01cd891",
   "metadata": {},
   "source": [
    "# **Tuple**"
   ]
  },
  {
   "cell_type": "code",
   "execution_count": 32,
   "id": "1299d200",
   "metadata": {},
   "outputs": [
    {
     "name": "stdout",
     "output_type": "stream",
     "text": [
      "Print all tuple1:  ('physics', 'chemistry', 1997, 2000)\n",
      "Print all tuple2:  (1, 2, 3, 4, 5, 6, 7)\n",
      "Print tuple1 element-0:  physics\n",
      "Print tuple1 element-1 until 5:  (2, 3, 4, 5)\n",
      "Join two tuple:  ('physics', 'chemistry', 1997, 2000, 1, 2, 3, 4, 5, 6, 7)\n"
     ]
    }
   ],
   "source": [
    "tup1 = ('physics', 'chemistry', 1997, 2000)\n",
    "tup2 = (1, 2, 3, 4, 5, 6, 7 )\n",
    "\n",
    "print(\"Print all tuple1: \", tup1)\n",
    "print(\"Print all tuple2: \", tup2)\n",
    "print(\"Print tuple1 element-0: \", tup1[0])\n",
    "print(\"Print tuple1 element-1 until 5: \", tup2[1:5])\n",
    "print(\"Join two tuple: \", tup1 + tup2)"
   ]
  },
  {
   "cell_type": "code",
   "execution_count": 33,
   "id": "4ac06ae0",
   "metadata": {},
   "outputs": [
    {
     "data": {
      "text/plain": [
       "('chemistry', 1997, 2000)"
      ]
     },
     "execution_count": 33,
     "metadata": {},
     "output_type": "execute_result"
    }
   ],
   "source": [
    "tup1[1:4]"
   ]
  },
  {
   "cell_type": "code",
   "execution_count": 34,
   "id": "d0f608e9",
   "metadata": {},
   "outputs": [
    {
     "data": {
      "text/plain": [
       "7"
      ]
     },
     "execution_count": 34,
     "metadata": {},
     "output_type": "execute_result"
    }
   ],
   "source": [
    "len(tup2)"
   ]
  },
  {
   "cell_type": "markdown",
   "id": "6bcc05df-d137-4727-afc6-45bef7a056fc",
   "metadata": {},
   "source": [
    "# **List**"
   ]
  },
  {
   "cell_type": "code",
   "execution_count": 35,
   "id": "e12f8f36",
   "metadata": {},
   "outputs": [
    {
     "name": "stdout",
     "output_type": "stream",
     "text": [
      "Print all list:  ['physics', 'chemistry', 1997, 2000]\n",
      "Print list element-0:  physics\n",
      "Print list element-1:  chemistry\n",
      "Print list element-1 until 3:  ['chemistry', 1997]\n",
      "Print list element-1 until 4:  ['chemistry', 1997, 2000]\n",
      "Print list element-2 until end:  [1997, 2000]\n",
      "Print list twice:  [1, 2, 3, 4, 5, 6, 7, 1, 2, 3, 4, 5, 6, 7]\n",
      "Join two list:  ['physics', 'chemistry', 1997, 2000, 1, 2, 3, 4, 5, 6, 7] \n",
      "\n"
     ]
    }
   ],
   "source": [
    "list1 = ['physics', 'chemistry', 1997, 2000]\n",
    "list2 = [1, 2, 3, 4, 5, 6, 7 ]\n",
    "\n",
    "print(\"Print all list: \", list1)\n",
    "print(\"Print list element-0: \", list1[0])\n",
    "print(\"Print list element-1: \", list1[1])\n",
    "print(\"Print list element-1 until 3: \", list1[1:3])\n",
    "print(\"Print list element-1 until 4: \",list1[1:4])\n",
    "print(\"Print list element-2 until end: \",list1[2:])\n",
    "print(\"Print list twice: \",list2 * 2)\n",
    "print(\"Join two list: \", list1 + list2, \"\\n\")"
   ]
  },
  {
   "cell_type": "code",
   "execution_count": 36,
   "id": "a9e3e09d",
   "metadata": {},
   "outputs": [
    {
     "data": {
      "text/plain": [
       "[3, 4, 5, 6, 7]"
      ]
     },
     "execution_count": 36,
     "metadata": {},
     "output_type": "execute_result"
    }
   ],
   "source": [
    "list2[2:7]"
   ]
  },
  {
   "cell_type": "code",
   "execution_count": 37,
   "id": "66beb0b4",
   "metadata": {},
   "outputs": [
    {
     "name": "stdout",
     "output_type": "stream",
     "text": [
      "print list element-1 until 4 : ['chemistry', 1997, 2000]\n"
     ]
    }
   ],
   "source": [
    "print(\"print list element-1 until 4 :\", list1[1:len(list1)])"
   ]
  },
  {
   "cell_type": "markdown",
   "id": "02ed6ba2-96c7-427d-b812-798b5fcc787c",
   "metadata": {},
   "source": [
    "### Case 5\n",
    "\n",
    "Uncomment cell dibawah ini lalu kemudian eksekusi dan amati perbedaanya!"
   ]
  },
  {
   "cell_type": "markdown",
   "id": "f5b72e2d-3866-45aa-80b1-90909c316d40",
   "metadata": {},
   "source": [
    "List:"
   ]
  },
  {
   "cell_type": "code",
   "execution_count": 38,
   "id": "98527b8f",
   "metadata": {},
   "outputs": [
    {
     "data": {
      "text/plain": [
       "['physics', 'chemistry', 1997, 2000]"
      ]
     },
     "execution_count": 38,
     "metadata": {},
     "output_type": "execute_result"
    }
   ],
   "source": [
    "list1"
   ]
  },
  {
   "cell_type": "code",
   "execution_count": 39,
   "id": "b4d6c18e-3111-4848-95aa-17c691b406b6",
   "metadata": {},
   "outputs": [],
   "source": [
    "list1[1] = 'math'"
   ]
  },
  {
   "cell_type": "code",
   "execution_count": 40,
   "id": "0647e345-9c8a-4bc9-8d8a-3131f96378ab",
   "metadata": {},
   "outputs": [
    {
     "data": {
      "text/plain": [
       "'math'"
      ]
     },
     "execution_count": 40,
     "metadata": {},
     "output_type": "execute_result"
    }
   ],
   "source": [
    "list1[1]"
   ]
  },
  {
   "cell_type": "code",
   "execution_count": 41,
   "id": "7ccf1dc5-33b9-4b2e-a7e3-768a2da660d5",
   "metadata": {},
   "outputs": [
    {
     "data": {
      "text/plain": [
       "['physics', 'math', 1997, 2000]"
      ]
     },
     "execution_count": 41,
     "metadata": {},
     "output_type": "execute_result"
    }
   ],
   "source": [
    "list1"
   ]
  },
  {
   "cell_type": "markdown",
   "id": "6ac0e030-8b75-4e03-a463-1c51ddeac27a",
   "metadata": {},
   "source": [
    "Tupple:"
   ]
  },
  {
   "cell_type": "code",
   "execution_count": 42,
   "id": "49a7337d",
   "metadata": {},
   "outputs": [
    {
     "data": {
      "text/plain": [
       "('physics', 'chemistry', 1997, 2000)"
      ]
     },
     "execution_count": 42,
     "metadata": {},
     "output_type": "execute_result"
    }
   ],
   "source": [
    "tup1"
   ]
  },
  {
   "cell_type": "code",
   "execution_count": 43,
   "id": "0f63a559",
   "metadata": {},
   "outputs": [
    {
     "data": {
      "text/plain": [
       "'chemistry'"
      ]
     },
     "execution_count": 43,
     "metadata": {},
     "output_type": "execute_result"
    }
   ],
   "source": [
    "tup1[1]"
   ]
  },
  {
   "cell_type": "code",
   "execution_count": 44,
   "id": "024bc7ac",
   "metadata": {},
   "outputs": [],
   "source": [
    "#tup1[1] = 'math'"
   ]
  },
  {
   "cell_type": "code",
   "execution_count": 45,
   "id": "b59cc7f6-fdda-4276-995b-0b6fb803dcab",
   "metadata": {},
   "outputs": [
    {
     "data": {
      "text/plain": [
       "'chemistry'"
      ]
     },
     "execution_count": 45,
     "metadata": {},
     "output_type": "execute_result"
    }
   ],
   "source": [
    "tup1[1]"
   ]
  },
  {
   "cell_type": "code",
   "execution_count": 46,
   "id": "df1a832d-6da3-4a37-bdd8-ebc0e3e248e7",
   "metadata": {},
   "outputs": [
    {
     "data": {
      "text/plain": [
       "('physics', 'chemistry', 1997, 2000)"
      ]
     },
     "execution_count": 46,
     "metadata": {},
     "output_type": "execute_result"
    }
   ],
   "source": [
    "tup1"
   ]
  },
  {
   "cell_type": "markdown",
   "id": "e62f2e51-8086-4d29-b058-329c3903e0c3",
   "metadata": {},
   "source": [
    "Simpulkan dan jawab pada sel dibawah ya! dan jangan lupa cell dibawah diganti ke format MD atau Markdown."
   ]
  },
  {
   "cell_type": "markdown",
   "id": "25c1b9fb-d830-4038-9142-a308f88f5c5b",
   "metadata": {},
   "source": [
    "Tipe Data **Tuple** bersifat *immutable* dan *ordered* berbeda dengan Tipe Data **List** yang bersifat *Mutable* dan *Ordered* dengan artian bahwa kedua tipe data tersebut sama-sama dapat diakses via indeks namun perbedaaannya adalah Tipe Data **Tuple** tidak dapat di edit atau merubah element lama menjadi element baru seperti yang dapat dilakukan oleh Tipe Data **List**"
   ]
  },
  {
   "cell_type": "markdown",
   "id": "2b089364",
   "metadata": {},
   "source": [
    "# **String**"
   ]
  },
  {
   "cell_type": "code",
   "execution_count": 47,
   "id": "6eb9df5a",
   "metadata": {},
   "outputs": [
    {
     "name": "stdout",
     "output_type": "stream",
     "text": [
      "21\n",
      "['Sasuke', 'pergi', 'ke', 'pasar']\n",
      "sasuke pergi ke pasar\n",
      "SASUKE PERGI KE PASAR\n"
     ]
    }
   ],
   "source": [
    "g = 'Sasuke pergi ke pasar'\n",
    "\n",
    "print(len(g))\n",
    "print(g.split(' '))\n",
    "print(g.lower())\n",
    "print(g.upper())"
   ]
  },
  {
   "cell_type": "markdown",
   "id": "865bffaf-28bd-49bf-912d-06c9668951dc",
   "metadata": {},
   "source": [
    "### Case 6\n",
    "\n",
    "Buat sebuah variable yang berisi string perkenalan nama dan umur, misal:\n",
    "\n",
    "\"Halo.. Nama saya sasuke, saya berusia 17 tahun!\"\n",
    "\n",
    "Print variable tersebut dan split menjadi sebuah list kemudian print juga yang versi List!"
   ]
  },
  {
   "cell_type": "code",
   "execution_count": 9,
   "id": "0a45978f-6a16-46a0-ac83-0ee38c74fd52",
   "metadata": {},
   "outputs": [
    {
     "name": "stdout",
     "output_type": "stream",
     "text": [
      "70\n",
      "['Hallo', 'Gaes..', 'Nama', 'saya', 'Raihan,', 'usia', 'saya', 'sekarang', 'beranjak', 'ke', '22', 'Tahun']\n",
      "['Hallo Gaes.. Nama saya Raihan', ' usia saya sekarang beranjak ke 22 Tahun']\n"
     ]
    }
   ],
   "source": [
    "Me = 'Hallo Gaes.. Nama saya Raihan, usia saya sekarang beranjak ke 22 Tahun'\n",
    "\n",
    "print(len(Me))\n",
    "print(Me.split(' '))\n",
    "print(Me.split(','))"
   ]
  },
  {
   "cell_type": "code",
   "execution_count": 10,
   "id": "ffbe3c0d",
   "metadata": {},
   "outputs": [
    {
     "name": "stdout",
     "output_type": "stream",
     "text": [
      "12\n",
      "2\n",
      "Hallo\n",
      "['Nama', 'saya', 'Raihan,']\n",
      " usia saya sekarang beranjak ke 22 Tahun\n"
     ]
    }
   ],
   "source": [
    "print(len(Me.split(' ')))\n",
    "print(len(Me.split(',')))\n",
    "print(Me.split(' ')[0])\n",
    "print(Me.split(' ')[2:5])\n",
    "print(Me.split(',')[1])\n"
   ]
  },
  {
   "cell_type": "code",
   "execution_count": 11,
   "id": "853d94ba",
   "metadata": {},
   "outputs": [
    {
     "data": {
      "text/plain": [
       "list"
      ]
     },
     "execution_count": 11,
     "metadata": {},
     "output_type": "execute_result"
    }
   ],
   "source": [
    "type(Me.split(' ')[2:5])"
   ]
  },
  {
   "cell_type": "code",
   "execution_count": 12,
   "id": "bcc1c3b7",
   "metadata": {},
   "outputs": [
    {
     "data": {
      "text/plain": [
       "str"
      ]
     },
     "execution_count": 12,
     "metadata": {},
     "output_type": "execute_result"
    }
   ],
   "source": [
    "type(Me.split(',')[1])"
   ]
  },
  {
   "cell_type": "markdown",
   "id": "a7e3af6b",
   "metadata": {},
   "source": [
    "### **Convert String to Number**"
   ]
  },
  {
   "cell_type": "code",
   "execution_count": 13,
   "id": "6fd188da",
   "metadata": {},
   "outputs": [
    {
     "name": "stdout",
     "output_type": "stream",
     "text": [
      "<class 'str'>\n",
      "25\n",
      "<class 'int'>\n"
     ]
    }
   ],
   "source": [
    "h = '25'\n",
    "i = int(h)\n",
    "\n",
    "print(type(h))\n",
    "print(i)\n",
    "print(type(i))"
   ]
  },
  {
   "cell_type": "markdown",
   "id": "e6f8cce0-19e5-461e-8ddc-74b378f2fe6a",
   "metadata": {},
   "source": [
    "### Case 7\n",
    "\n",
    "Convert umur dalam List yang sebelumnya dibuat dan tersimpan dalam **Case 6** menjadi sebuah integer!"
   ]
  },
  {
   "cell_type": "code",
   "execution_count": 15,
   "id": "1d02c697",
   "metadata": {},
   "outputs": [
    {
     "name": "stdout",
     "output_type": "stream",
     "text": [
      "['Hallo', 'Guys..', 'Nama', 'saya', 'Raihan,', 'usia', 'saya', 'sekarang', 'beranjak', 'ke', '22', 'Tahun']\n",
      "22\n"
     ]
    }
   ],
   "source": [
    "Me = 'Hallo Guys.. Nama saya Raihan, usia saya sekarang beranjak ke 22 Tahun'\n",
    "Saya = Me.split(' ')\n",
    "print(Saya)\n",
    "print(Saya[10])"
   ]
  },
  {
   "cell_type": "code",
   "execution_count": 16,
   "id": "6eeb6ea2",
   "metadata": {},
   "outputs": [
    {
     "data": {
      "text/plain": [
       "str"
      ]
     },
     "execution_count": 16,
     "metadata": {},
     "output_type": "execute_result"
    }
   ],
   "source": [
    "type(Saya[10])"
   ]
  },
  {
   "cell_type": "code",
   "execution_count": 55,
   "id": "d33349c8",
   "metadata": {},
   "outputs": [],
   "source": [
    "Saya[10] = int(Saya[10])"
   ]
  },
  {
   "cell_type": "code",
   "execution_count": 56,
   "id": "dc57afd4",
   "metadata": {},
   "outputs": [
    {
     "data": {
      "text/plain": [
       "int"
      ]
     },
     "execution_count": 56,
     "metadata": {},
     "output_type": "execute_result"
    }
   ],
   "source": [
    "type(Saya[10])"
   ]
  },
  {
   "cell_type": "markdown",
   "id": "2cab4e3f-3392-4632-971d-d75e62ddceda",
   "metadata": {},
   "source": [
    "### Case 8\n",
    "\n",
    "Convert **Case 6** dan **Case 7** menjadi sebuah program python dengan nama `list_string.py`!"
   ]
  },
  {
   "cell_type": "markdown",
   "id": "c3457b6c",
   "metadata": {},
   "source": [
    "# **Math Module**"
   ]
  },
  {
   "cell_type": "code",
   "execution_count": 57,
   "id": "ca3203cd",
   "metadata": {},
   "outputs": [
    {
     "name": "stdout",
     "output_type": "stream",
     "text": [
      "6\n",
      "7\n",
      "6\n",
      "7\n"
     ]
    }
   ],
   "source": [
    "import math\n",
    "\n",
    "print(round(6.4))\n",
    "print(round(6.8))\n",
    "print(math.floor(6.8))\n",
    "print(math.ceil(6.8))"
   ]
  },
  {
   "cell_type": "markdown",
   "id": "a5c2ab8d-71b5-46fe-8a2b-052b28c3d1d0",
   "metadata": {},
   "source": [
    "### Case 9\n",
    "\n",
    "![title](https://akupintar.id/documents/portlet_file_entry/20143/2+%284%29.png/d8907cd9-a23e-b777-4594-f3355af498cb?imagePreview=1)\n",
    "\n",
    "Konversi perhitungan pytagoras berikut menjadi sebuah program yang berjalan di jupyter-notebook dan convert menjadi sebuah program python dengan extension `*.py` dengan nama `math_module_example`!"
   ]
  },
  {
   "cell_type": "code",
   "execution_count": 58,
   "id": "98a71dc7",
   "metadata": {},
   "outputs": [
    {
     "data": {
      "text/plain": [
       "169"
      ]
     },
     "execution_count": 58,
     "metadata": {},
     "output_type": "execute_result"
    }
   ],
   "source": [
    "Panjang_AB = 12\n",
    "Panjang_BC = 5\n",
    "Panjang_AC = Panjang_AB**2 + Panjang_BC**2\n",
    "Panjang_AC\n"
   ]
  },
  {
   "cell_type": "code",
   "execution_count": 59,
   "id": "1ae1ac80",
   "metadata": {},
   "outputs": [
    {
     "name": "stdout",
     "output_type": "stream",
     "text": [
      "Panjang Garis A ke C = 13.0 cm\n"
     ]
    }
   ],
   "source": [
    "import math\n",
    "Panjang_Garis_AC = math.sqrt(Panjang_AC)\n",
    "print(f\"Panjang Garis A ke C = {Panjang_Garis_AC} cm\")"
   ]
  },
  {
   "cell_type": "markdown",
   "id": "80d20232",
   "metadata": {},
   "source": [
    "# **Dictionary**\n",
    "\n",
    "+ jumlahnya 1: `{'key': value}`\n",
    "+ jumlahnya lebih dari 1: `{'key1': value1, 'key2': value2, 'key3': {'key3.1': value31, 'key3.2': value32}}`"
   ]
  },
  {
   "cell_type": "code",
   "execution_count": 60,
   "id": "3b7bda71",
   "metadata": {},
   "outputs": [
    {
     "name": "stdout",
     "output_type": "stream",
     "text": [
      "Print dictionary on dict1['one']:  This is one\n",
      "Print dictionary on dict1[2]:  This is two\n",
      "Print dictionary on dict1:  {'one': 'This is one', 2: 'This is two'}\n",
      "Print dictionary on tinydict:  {'name': 'john', 'code': 6734, 'dept': {'pos': 'engineering'}}\n",
      "Print tinydict dictionary keys:  dict_keys(['name', 'code', 'dept'])\n",
      "Print tinydict dictionary values:  dict_values(['john', 6734, {'pos': 'engineering'}]) \n",
      "\n"
     ]
    }
   ],
   "source": [
    "dict1 = {}\n",
    "dict1['one'] = \"This is one\"\n",
    "dict1[2] = \"This is two\"\n",
    "tinydict = {'name': 'john','code':6734, 'dept': {'pos': 'sales', 'pos': 'engineering'}}\n",
    "\n",
    "print(\"Print dictionary on dict1['one']: \", dict1['one'])\n",
    "print(\"Print dictionary on dict1[2]: \",dict1[2])\n",
    "print(\"Print dictionary on dict1: \", dict1)\n",
    "print(\"Print dictionary on tinydict: \", tinydict)\n",
    "print(\"Print tinydict dictionary keys: \", tinydict.keys())\n",
    "print(\"Print tinydict dictionary values: \", tinydict.values(), \"\\n\")"
   ]
  },
  {
   "cell_type": "code",
   "execution_count": 61,
   "metadata": {},
   "outputs": [
    {
     "data": {
      "text/plain": [
       "{'one': 'This is one', 2: 'This is two'}"
      ]
     },
     "execution_count": 61,
     "metadata": {},
     "output_type": "execute_result"
    }
   ],
   "source": [
    "dict1"
   ]
  },
  {
   "cell_type": "code",
   "execution_count": 62,
   "metadata": {},
   "outputs": [
    {
     "data": {
      "text/plain": [
       "{'name': 'john', 'code': 6734, 'dept': {'pos': 'engineering'}}"
      ]
     },
     "execution_count": 62,
     "metadata": {},
     "output_type": "execute_result"
    }
   ],
   "source": [
    "tinydict"
   ]
  },
  {
   "cell_type": "markdown",
   "id": "f488ac6d-0bc1-4c6a-a84c-c2b256c72d8e",
   "metadata": {},
   "source": [
    "### Case 10\n",
    "\n",
    "Buat sebuah data diri teman-teman ke sebuah dictionary dan print di jupyter notebook, Contoh:\n",
    "\n",
    "```\n",
    "{\n",
    "    'nama': 'sasuke uchiha',\n",
    "    'nim': 2221100025,\n",
    "}\n",
    "```"
   ]
  },
  {
   "cell_type": "code",
   "execution_count": 17,
   "metadata": {},
   "outputs": [
    {
     "data": {
      "text/plain": [
       "{'Name': 'Raihan', 'NIM': '201440004'}"
      ]
     },
     "execution_count": 17,
     "metadata": {},
     "output_type": "execute_result"
    }
   ],
   "source": [
    "mydict = {'Name' :'Raihan','NIM' :'201440004'}\n",
    "mydict"
   ]
  },
  {
   "cell_type": "markdown",
   "metadata": {},
   "source": [
    "Lakukan penambahan key dan value dengan urutan sebagai berikut:\n",
    "+ `'alamat': 'jl. Madara no. 10, Konohagakure, Hi no Kuni'`\n",
    "+ `'usia': 17`"
   ]
  },
  {
   "cell_type": "code",
   "execution_count": 19,
   "metadata": {},
   "outputs": [
    {
     "data": {
      "text/plain": [
       "{'Name': 'Raihan',\n",
       " 'NIM': '201440004',\n",
       " 'Address': 'Jl.Ngareng No.8, Kecamatan Cepu, Blora, Jateng, Indonesia',\n",
       " 'Age': '21'}"
      ]
     },
     "execution_count": 19,
     "metadata": {},
     "output_type": "execute_result"
    }
   ],
   "source": [
    "mydict = {'Name' :'Raihan','NIM' :'201440004','Address' :'Jl.Ngareng No.8, Kecamatan Cepu, Blora, Jateng, Indonesia','Age' :'21'}\n",
    "mydict"
   ]
  },
  {
   "cell_type": "markdown",
   "metadata": {},
   "source": [
    "Lakukan penggantian setiap value sesuai dengan data diri masing2!"
   ]
  },
  {
   "cell_type": "code",
   "execution_count": null,
   "metadata": {},
   "outputs": [],
   "source": []
  }
 ],
 "metadata": {
  "kernelspec": {
   "display_name": "Python 3.10.12 ('.introduction-venv': venv)",
   "language": "python",
   "name": "python3"
  },
  "language_info": {
   "codemirror_mode": {
    "name": "ipython",
    "version": 3
   },
   "file_extension": ".py",
   "mimetype": "text/x-python",
   "name": "python",
   "nbconvert_exporter": "python",
   "pygments_lexer": "ipython3",
   "version": "3.11.4"
  },
  "vscode": {
   "interpreter": {
    "hash": "f05b7b88cb9495c831a913c33396af94e2aac14bd0db73cfbed20b5a2b6211e2"
   }
  }
 },
 "nbformat": 4,
 "nbformat_minor": 5
}
